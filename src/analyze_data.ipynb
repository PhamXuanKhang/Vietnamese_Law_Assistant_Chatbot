{
 "cells": [
  {
   "cell_type": "code",
   "execution_count": 1,
   "metadata": {},
   "outputs": [],
   "source": [
    "from sqlalchemy import create_engine\n",
    "import pandas as pd\n",
    "import matplotlib.pyplot as plt\n",
    "from dotenv import load_dotenv\n",
    "import os\n",
    "import tiktoken"
   ]
  },
  {
   "cell_type": "code",
   "execution_count": 2,
   "metadata": {},
   "outputs": [],
   "source": [
    "# Load biến môi trường từ file .env\n",
    "load_dotenv(\".env\")\n",
    "user = os.getenv('DB_USER')\n",
    "password = os.getenv('DB_PASSWORD')\n",
    "host = os.getenv('DB_HOST')\n",
    "port = os.getenv('DB_PORT')\n",
    "db_name = os.getenv('DB_NAME')"
   ]
  },
  {
   "cell_type": "code",
   "execution_count": 3,
   "metadata": {},
   "outputs": [],
   "source": [
    "# Chuỗi kết nối\n",
    "connection_string = f\"mysql+pymysql://{user}:{password}@{host}:{port}/{db_name}?charset=utf8mb4\""
   ]
  },
  {
   "cell_type": "code",
   "execution_count": 4,
   "metadata": {},
   "outputs": [],
   "source": [
    "engine = create_engine(connection_string)"
   ]
  },
  {
   "cell_type": "code",
   "execution_count": 5,
   "metadata": {},
   "outputs": [],
   "source": [
    "query = \"SELECT * FROM pd_dieu;\"  # Thay your_table_name bằng tên bảng của bạn\n",
    "df = pd.read_sql(query, engine)"
   ]
  },
  {
   "cell_type": "code",
   "execution_count": 15,
   "metadata": {},
   "outputs": [
    {
     "data": {
      "text/html": [
       "<div>\n",
       "<style scoped>\n",
       "    .dataframe tbody tr th:only-of-type {\n",
       "        vertical-align: middle;\n",
       "    }\n",
       "\n",
       "    .dataframe tbody tr th {\n",
       "        vertical-align: top;\n",
       "    }\n",
       "\n",
       "    .dataframe thead th {\n",
       "        text-align: right;\n",
       "    }\n",
       "</style>\n",
       "<table border=\"1\" class=\"dataframe\">\n",
       "  <thead>\n",
       "    <tr style=\"text-align: right;\">\n",
       "      <th></th>\n",
       "      <th>mapc</th>\n",
       "      <th>ten</th>\n",
       "      <th>noidung</th>\n",
       "      <th>chimuc</th>\n",
       "      <th>vbqppl</th>\n",
       "      <th>vbqppl_link</th>\n",
       "      <th>stt</th>\n",
       "      <th>demuc_id</th>\n",
       "      <th>chuong_id</th>\n",
       "      <th>chude_id</th>\n",
       "    </tr>\n",
       "  </thead>\n",
       "  <tbody>\n",
       "    <tr>\n",
       "      <th>0</th>\n",
       "      <td>0100100000000000100000100000000000000000</td>\n",
       "      <td>Điều 1.1.LQ.1. Phạm vi điều chỉnh</td>\n",
       "      <td>Luật này quy định về chính sách an ninh quốc g...</td>\n",
       "      <td>1</td>\n",
       "      <td>Điều 1 Luật số 32/2004/QH11 An ninh Quốc gia n...</td>\n",
       "      <td>http://vbpl.vn/TW/Pages/vbpq-toanvan.aspx?Item...</td>\n",
       "      <td>0</td>\n",
       "      <td>55323c64-e78f-4537-afcd-6a3c2af3c71d</td>\n",
       "      <td>01001000000000001000</td>\n",
       "      <td>c3b69131-2931-4f67-926e-b244e18e8081</td>\n",
       "    </tr>\n",
       "    <tr>\n",
       "      <th>1</th>\n",
       "      <td>0100100000000000100000200000000000000000</td>\n",
       "      <td>Điều 1.1.LQ.2. Đối tượng áp dụng</td>\n",
       "      <td>Luật này áp dụng đối với cơ quan, tổ chức, côn...</td>\n",
       "      <td>2</td>\n",
       "      <td>Điều 2 Luật số 32/2004/QH11, có hiệu lực thi h...</td>\n",
       "      <td>http://vbpl.vn/TW/Pages/vbpq-toanvan.aspx?Item...</td>\n",
       "      <td>1</td>\n",
       "      <td>55323c64-e78f-4537-afcd-6a3c2af3c71d</td>\n",
       "      <td>01001000000000001000</td>\n",
       "      <td>c3b69131-2931-4f67-926e-b244e18e8081</td>\n",
       "    </tr>\n",
       "    <tr>\n",
       "      <th>2</th>\n",
       "      <td>0100100000000000100000240220600016000010</td>\n",
       "      <td>Điều 1.1.NĐ.1.1. Phạm vi điều chỉnh</td>\n",
       "      <td>Nghị định này quy định việc khôi phục danh dự ...</td>\n",
       "      <td>1</td>\n",
       "      <td>Điều 1 Nghị định số 16/2006/NĐ-CP Quy định về ...</td>\n",
       "      <td>http://vbpl.vn/TW/Pages/vbpq-toanvan.aspx?Item...</td>\n",
       "      <td>2</td>\n",
       "      <td>55323c64-e78f-4537-afcd-6a3c2af3c71d</td>\n",
       "      <td>01001000000000001000</td>\n",
       "      <td>c3b69131-2931-4f67-926e-b244e18e8081</td>\n",
       "    </tr>\n",
       "    <tr>\n",
       "      <th>3</th>\n",
       "      <td>0100100000000000100000240221420038000010</td>\n",
       "      <td>Điều 1.1.NĐ.2.1. Phạm vi điều chỉnh, đối tượng...</td>\n",
       "      <td>Nghị định này quy định về chức năng, nhiệm vụ,...</td>\n",
       "      <td>1</td>\n",
       "      <td>Điều 1 Nghị định số 38/2006/NĐ-CP Về Bảo vệ dâ...</td>\n",
       "      <td>http://vbpl.vn/TW/Pages/vbpq-toanvan.aspx?Item...</td>\n",
       "      <td>3</td>\n",
       "      <td>55323c64-e78f-4537-afcd-6a3c2af3c71d</td>\n",
       "      <td>01001000000000001000</td>\n",
       "      <td>c3b69131-2931-4f67-926e-b244e18e8081</td>\n",
       "    </tr>\n",
       "    <tr>\n",
       "      <th>4</th>\n",
       "      <td>0100100000000000100000240223350127000010</td>\n",
       "      <td>Điều 1.1.NĐ.3.1. Phạm vi điều chỉnh</td>\n",
       "      <td>Nghị định này quy định chi tiết thi hành một s...</td>\n",
       "      <td>1</td>\n",
       "      <td>Điều 1 Nghị định số 127/2006/NĐ-CP Quy định về...</td>\n",
       "      <td>http://vbpl.vn/TW/Pages/vbpq-toanvan.aspx?Item...</td>\n",
       "      <td>4</td>\n",
       "      <td>55323c64-e78f-4537-afcd-6a3c2af3c71d</td>\n",
       "      <td>01001000000000001000</td>\n",
       "      <td>c3b69131-2931-4f67-926e-b244e18e8081</td>\n",
       "    </tr>\n",
       "  </tbody>\n",
       "</table>\n",
       "</div>"
      ],
      "text/plain": [
       "                                       mapc  \\\n",
       "0  0100100000000000100000100000000000000000   \n",
       "1  0100100000000000100000200000000000000000   \n",
       "2  0100100000000000100000240220600016000010   \n",
       "3  0100100000000000100000240221420038000010   \n",
       "4  0100100000000000100000240223350127000010   \n",
       "\n",
       "                                                 ten  \\\n",
       "0                  Điều 1.1.LQ.1. Phạm vi điều chỉnh   \n",
       "1                   Điều 1.1.LQ.2. Đối tượng áp dụng   \n",
       "2                Điều 1.1.NĐ.1.1. Phạm vi điều chỉnh   \n",
       "3  Điều 1.1.NĐ.2.1. Phạm vi điều chỉnh, đối tượng...   \n",
       "4                Điều 1.1.NĐ.3.1. Phạm vi điều chỉnh   \n",
       "\n",
       "                                             noidung  chimuc  \\\n",
       "0  Luật này quy định về chính sách an ninh quốc g...       1   \n",
       "1  Luật này áp dụng đối với cơ quan, tổ chức, côn...       2   \n",
       "2  Nghị định này quy định việc khôi phục danh dự ...       1   \n",
       "3  Nghị định này quy định về chức năng, nhiệm vụ,...       1   \n",
       "4  Nghị định này quy định chi tiết thi hành một s...       1   \n",
       "\n",
       "                                              vbqppl  \\\n",
       "0  Điều 1 Luật số 32/2004/QH11 An ninh Quốc gia n...   \n",
       "1  Điều 2 Luật số 32/2004/QH11, có hiệu lực thi h...   \n",
       "2  Điều 1 Nghị định số 16/2006/NĐ-CP Quy định về ...   \n",
       "3  Điều 1 Nghị định số 38/2006/NĐ-CP Về Bảo vệ dâ...   \n",
       "4  Điều 1 Nghị định số 127/2006/NĐ-CP Quy định về...   \n",
       "\n",
       "                                         vbqppl_link  stt  \\\n",
       "0  http://vbpl.vn/TW/Pages/vbpq-toanvan.aspx?Item...    0   \n",
       "1  http://vbpl.vn/TW/Pages/vbpq-toanvan.aspx?Item...    1   \n",
       "2  http://vbpl.vn/TW/Pages/vbpq-toanvan.aspx?Item...    2   \n",
       "3  http://vbpl.vn/TW/Pages/vbpq-toanvan.aspx?Item...    3   \n",
       "4  http://vbpl.vn/TW/Pages/vbpq-toanvan.aspx?Item...    4   \n",
       "\n",
       "                               demuc_id             chuong_id  \\\n",
       "0  55323c64-e78f-4537-afcd-6a3c2af3c71d  01001000000000001000   \n",
       "1  55323c64-e78f-4537-afcd-6a3c2af3c71d  01001000000000001000   \n",
       "2  55323c64-e78f-4537-afcd-6a3c2af3c71d  01001000000000001000   \n",
       "3  55323c64-e78f-4537-afcd-6a3c2af3c71d  01001000000000001000   \n",
       "4  55323c64-e78f-4537-afcd-6a3c2af3c71d  01001000000000001000   \n",
       "\n",
       "                               chude_id  \n",
       "0  c3b69131-2931-4f67-926e-b244e18e8081  \n",
       "1  c3b69131-2931-4f67-926e-b244e18e8081  \n",
       "2  c3b69131-2931-4f67-926e-b244e18e8081  \n",
       "3  c3b69131-2931-4f67-926e-b244e18e8081  \n",
       "4  c3b69131-2931-4f67-926e-b244e18e8081  "
      ]
     },
     "execution_count": 15,
     "metadata": {},
     "output_type": "execute_result"
    }
   ],
   "source": [
    "df.head()"
   ]
  },
  {
   "cell_type": "code",
   "execution_count": 20,
   "metadata": {},
   "outputs": [],
   "source": [
    "tokenizer = tiktoken.get_encoding(\"cl100k_base\")"
   ]
  },
  {
   "cell_type": "code",
   "execution_count": 22,
   "metadata": {},
   "outputs": [],
   "source": [
    "df[\"len_noidung\"] = df[\"noidung\"].apply(lambda x: len(tokenizer.encode(x)))"
   ]
  },
  {
   "cell_type": "code",
   "execution_count": 24,
   "metadata": {},
   "outputs": [
    {
     "data": {
      "text/plain": [
       "count    49573.000000\n",
       "mean       556.346761\n",
       "std        746.481513\n",
       "min          0.000000\n",
       "25%        178.000000\n",
       "50%        352.000000\n",
       "75%        678.000000\n",
       "max      23148.000000\n",
       "Name: len_noidung, dtype: float64"
      ]
     },
     "execution_count": 24,
     "metadata": {},
     "output_type": "execute_result"
    }
   ],
   "source": [
    "df[\"len_noidung\"].describe()"
   ]
  },
  {
   "cell_type": "code",
   "execution_count": 23,
   "metadata": {},
   "outputs": [
    {
     "data": {
      "image/png": "[encoded data removed]",
      "text/plain": [
       "<Figure size 640x480 with 1 Axes>"
      ]
     },
     "metadata": {},
     "output_type": "display_data"
    }
   ],
   "source": [
    "plt.hist(df['len_noidung'], bins=20, edgecolor='black')\n",
    "\n",
    "# Thêm tiêu đề và nhãn\n",
    "plt.title('Histogram với 50 bins')\n",
    "plt.xlabel('Giá trị')\n",
    "plt.ylabel('Tần số')\n",
    "\n",
    "# Hiển thị biểu đồ\n",
    "plt.show()"
   ]
  },
  {
   "cell_type": "code",
   "execution_count": null,
   "metadata": {},
   "outputs": [],
   "source": []
  }
 ],
 "metadata": {
  "kernelspec": {
   "display_name": "myenv",
   "language": "python",
   "name": "python3"
  },
  "language_info": {
   "codemirror_mode": {
    "name": "ipython",
    "version": 3
   },
   "file_extension": ".py",
   "mimetype": "text/x-python",
   "name": "python",
   "nbconvert_exporter": "python",
   "pygments_lexer": "ipython3",
   "version": "3.12.8"
  }
 },
 "nbformat": 4,
 "nbformat_minor": 2
}
