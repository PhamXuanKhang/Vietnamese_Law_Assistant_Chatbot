{
 "cells": [
  {
   "cell_type": "code",
   "execution_count": 1,
   "metadata": {},
   "outputs": [
    {
     "name": "stderr",
     "output_type": "stream",
     "text": [
      "d:\\tailieuki5\\DPL302m\\Vietnamese_Law_Assistant_Chatbot\\myenv\\Lib\\site-packages\\tqdm\\auto.py:21: TqdmWarning: IProgress not found. Please update jupyter and ipywidgets. See https://ipywidgets.readthedocs.io/en/stable/user_install.html\n",
      "  from .autonotebook import tqdm as notebook_tqdm\n"
     ]
    }
   ],
   "source": [
    "from sqlalchemy import create_engine\n",
    "import pandas as pd\n",
    "import matplotlib.pyplot as plt\n",
    "from dotenv import load_dotenv\n",
    "from pyvi.ViTokenizer import tokenize\n",
    "import os\n",
    "from sentence_transformers import SentenceTransformer"
   ]
  },
  {
   "cell_type": "code",
   "execution_count": 2,
   "metadata": {},
   "outputs": [],
   "source": [
    "# Load biến môi trường từ file .env\n",
    "load_dotenv(\".env\")\n",
    "user = os.getenv('DB_USER')\n",
    "password = os.getenv('DB_PASSWORD')\n",
    "host = os.getenv('DB_HOST')\n",
    "port = os.getenv('DB_PORT')\n",
    "db_name = os.getenv('DB_NAME')"
   ]
  },
  {
   "cell_type": "code",
   "execution_count": 3,
   "metadata": {},
   "outputs": [],
   "source": [
    "# Tạo chuỗi kết nối\n",
    "connection_string = f\"mysql+pymysql://{user}:{password}@{host}:{port}/{db_name}?charset=utf8mb4\""
   ]
  },
  {
   "cell_type": "code",
   "execution_count": 4,
   "metadata": {},
   "outputs": [],
   "source": [
    "# Tạo engine\n",
    "engine = create_engine(connection_string)"
   ]
  },
  {
   "cell_type": "code",
   "execution_count": 5,
   "metadata": {},
   "outputs": [],
   "source": [
    "# Query lấy dữ liệu và lưu vào dataframe\n",
    "query = \"select mapc, noidung, pd_dieu.ten, vbqppl\" \\\n",
    "\"        from pd_dieu join pd_chude on pd_dieu.chude_id = pd_chude.id\" \\\n",
    "\"        where pd_chude.stt = '39';\"\n",
    "df = pd.read_sql(query, engine)"
   ]
  },
  {
   "cell_type": "code",
   "execution_count": 6,
   "metadata": {},
   "outputs": [
    {
     "data": {
      "text/html": [
       "<div>\n",
       "<style scoped>\n",
       "    .dataframe tbody tr th:only-of-type {\n",
       "        vertical-align: middle;\n",
       "    }\n",
       "\n",
       "    .dataframe tbody tr th {\n",
       "        vertical-align: top;\n",
       "    }\n",
       "\n",
       "    .dataframe thead th {\n",
       "        text-align: right;\n",
       "    }\n",
       "</style>\n",
       "<table border=\"1\" class=\"dataframe\">\n",
       "  <thead>\n",
       "    <tr style=\"text-align: right;\">\n",
       "      <th></th>\n",
       "      <th>mapc</th>\n",
       "      <th>noidung</th>\n",
       "      <th>ten</th>\n",
       "      <th>vbqppl</th>\n",
       "    </tr>\n",
       "  </thead>\n",
       "  <tbody>\n",
       "    <tr>\n",
       "      <th>0</th>\n",
       "      <td>39001001000000000000</td>\n",
       "      <td>Chứng minh nhân dân quy định tại Nghị định này...</td>\n",
       "      <td>Điều 39.1.NĐ.1. Chứng minh nhân dân</td>\n",
       "      <td>Điều 1 Nghị định số 05/1999/NĐ-CP Về chứng min...</td>\n",
       "    </tr>\n",
       "    <tr>\n",
       "      <th>1</th>\n",
       "      <td>39001002000000000000</td>\n",
       "      <td>Chứng minh nhân dân hình chữ nhật dài 85,6 mm,...</td>\n",
       "      <td>Điều 39.1.NĐ.2.</td>\n",
       "      <td>Điều 2 Nghị định số 05/1999/NĐ-CP, có hiệu lực...</td>\n",
       "    </tr>\n",
       "    <tr>\n",
       "      <th>2</th>\n",
       "      <td>39001003000000000000</td>\n",
       "      <td>1. Công dân Việt Nam từ đủ 14 tuổi trở lên, đa...</td>\n",
       "      <td>Điều 39.1.NĐ.3. Đối tượng được cấp Chứng minh ...</td>\n",
       "      <td>Điều 3 Nghị định số 05/1999/NĐ-CP, có hiệu lực...</td>\n",
       "    </tr>\n",
       "    <tr>\n",
       "      <th>3</th>\n",
       "      <td>3900100300000000000000801959700040000100</td>\n",
       "      <td>Điều 3 Nghị định số 05/1999/NĐ-CP quy định đối...</td>\n",
       "      <td>Điều 39.1.TT.1.1. Đối tượng được cấp CMND</td>\n",
       "      <td>Điều 1 Thông tư số 04/1999/TT-BCA(C13) Hướng d...</td>\n",
       "    </tr>\n",
       "    <tr>\n",
       "      <th>4</th>\n",
       "      <td>3900100300000000000000801959700040000300</td>\n",
       "      <td>1. Công dân được sử dụng CMND của mình làm giấ...</td>\n",
       "      <td>Điều 39.1.TT.1.3. Quyền và trách nhiệm công dân</td>\n",
       "      <td>Điều 3 Thông tư số 04/1999/TT-BCA(C13), có hiệ...</td>\n",
       "    </tr>\n",
       "  </tbody>\n",
       "</table>\n",
       "</div>"
      ],
      "text/plain": [
       "                                       mapc  \\\n",
       "0                      39001001000000000000   \n",
       "1                      39001002000000000000   \n",
       "2                      39001003000000000000   \n",
       "3  3900100300000000000000801959700040000100   \n",
       "4  3900100300000000000000801959700040000300   \n",
       "\n",
       "                                             noidung  \\\n",
       "0  Chứng minh nhân dân quy định tại Nghị định này...   \n",
       "1  Chứng minh nhân dân hình chữ nhật dài 85,6 mm,...   \n",
       "2  1. Công dân Việt Nam từ đủ 14 tuổi trở lên, đa...   \n",
       "3  Điều 3 Nghị định số 05/1999/NĐ-CP quy định đối...   \n",
       "4  1. Công dân được sử dụng CMND của mình làm giấ...   \n",
       "\n",
       "                                                 ten  \\\n",
       "0                Điều 39.1.NĐ.1. Chứng minh nhân dân   \n",
       "1                                    Điều 39.1.NĐ.2.   \n",
       "2  Điều 39.1.NĐ.3. Đối tượng được cấp Chứng minh ...   \n",
       "3          Điều 39.1.TT.1.1. Đối tượng được cấp CMND   \n",
       "4    Điều 39.1.TT.1.3. Quyền và trách nhiệm công dân   \n",
       "\n",
       "                                              vbqppl  \n",
       "0  Điều 1 Nghị định số 05/1999/NĐ-CP Về chứng min...  \n",
       "1  Điều 2 Nghị định số 05/1999/NĐ-CP, có hiệu lực...  \n",
       "2  Điều 3 Nghị định số 05/1999/NĐ-CP, có hiệu lực...  \n",
       "3  Điều 1 Thông tư số 04/1999/TT-BCA(C13) Hướng d...  \n",
       "4  Điều 3 Thông tư số 04/1999/TT-BCA(C13), có hiệ...  "
      ]
     },
     "execution_count": 6,
     "metadata": {},
     "output_type": "execute_result"
    }
   ],
   "source": [
    "df.head()"
   ]
  },
  {
   "cell_type": "code",
   "execution_count": 7,
   "metadata": {},
   "outputs": [],
   "source": [
    "# Tải model embedding để tính toán lượng token\n",
    "model = SentenceTransformer('dangvantuan/vietnamese-embedding')\n",
    "tokenizer = model.tokenizer"
   ]
  },
  {
   "cell_type": "code",
   "execution_count": 8,
   "metadata": {},
   "outputs": [
    {
     "name": "stderr",
     "output_type": "stream",
     "text": [
      "Token indices sequence length is longer than the specified maximum sequence length for this model (596 > 512). Running this sequence through the model will result in indexing errors\n"
     ]
    }
   ],
   "source": [
    "# Tính số lượng token của mỗi điều (có sử dụng pyvi để tokenize)\n",
    "df[\"len_noidung\"] = df[\"noidung\"].apply(lambda x: len(tokenizer.encode(tokenize(x))))"
   ]
  },
  {
   "cell_type": "code",
   "execution_count": 35,
   "metadata": {},
   "outputs": [
    {
     "name": "stdout",
     "output_type": "stream",
     "text": [
      "? . 1123 Hà_Tĩnh - điều 301 ?\n"
     ]
    }
   ],
   "source": [
    "print(tokenize('?. 1123 Hà Tĩnh - điều 301 ?'))"
   ]
  },
  {
   "cell_type": "code",
   "execution_count": 9,
   "metadata": {},
   "outputs": [
    {
     "data": {
      "text/plain": [
       "count    1640.000000\n",
       "mean      224.131707\n",
       "std       252.476903\n",
       "min         2.000000\n",
       "25%        74.000000\n",
       "50%       149.000000\n",
       "75%       284.000000\n",
       "max      3090.000000\n",
       "Name: len_noidung, dtype: float64"
      ]
     },
     "execution_count": 9,
     "metadata": {},
     "output_type": "execute_result"
    }
   ],
   "source": [
    "df['len_noidung'].describe()"
   ]
  },
  {
   "cell_type": "markdown",
   "metadata": {},
   "source": [
    "$\\implies$ Trung bình các điều dài khoảng 224 tokens, thấp nhất là 2 tokens và cao nhất là 3090 tokens"
   ]
  },
  {
   "cell_type": "code",
   "execution_count": 10,
   "metadata": {},
   "outputs": [
    {
     "data": {
      "text/plain": [
       "['(Bị bãi bỏ)\\n', '(Bị bãi bỏ)\\n', '', '', '', '', '', '', '', '']"
      ]
     },
     "execution_count": 10,
     "metadata": {},
     "output_type": "execute_result"
    }
   ],
   "source": [
    "# Kiểm tra nội dung 1 số điều có độ dài ngắn\n",
    "short_contents = [nd for nd in df[df['len_noidung']<10]['noidung']]\n",
    "short_contents"
   ]
  },
  {
   "cell_type": "markdown",
   "metadata": {},
   "source": [
    "$\\implies$ 1 số điều có độ dài ngắn và không mang ý nghĩa nên cần loại bỏ"
   ]
  },
  {
   "cell_type": "code",
   "execution_count": 11,
   "metadata": {},
   "outputs": [
    {
     "data": {
      "image/png": "[encoded data removed]",
      "text/plain": [
       "<Figure size 640x480 with 1 Axes>"
      ]
     },
     "metadata": {},
     "output_type": "display_data"
    },
    {
     "name": "stdout",
     "output_type": "stream",
     "text": [
      "Có 138/1640 điều có độ dài token > 512 (cần chunking)\n"
     ]
    }
   ],
   "source": [
    "# Visualization\n",
    "plt.hist(df['len_noidung'], bins=50, edgecolor='black', linewidth=0.5)\n",
    "plt.title('Phân phối độ dài token các điều trong dữ liệu (Histogram với 50 bins)')\n",
    "plt.xlabel('Độ dài token 1 điều')\n",
    "plt.ylabel('Frequency')\n",
    "plt.show()\n",
    "print(f\"Có {(df['len_noidung'] > 512).sum()}/{len(df)} điều có độ dài token > 512 (cần chunking)\")"
   ]
  },
  {
   "cell_type": "code",
   "execution_count": null,
   "metadata": {},
   "outputs": [],
   "source": []
  }
 ],
 "metadata": {
  "kernelspec": {
   "display_name": "myenv",
   "language": "python",
   "name": "python3"
  },
  "language_info": {
   "codemirror_mode": {
    "name": "ipython",
    "version": 3
   },
   "file_extension": ".py",
   "mimetype": "text/x-python",
   "name": "python",
   "nbconvert_exporter": "python",
   "pygments_lexer": "ipython3",
   "version": "3.12.8"
  }
 },
 "nbformat": 4,
 "nbformat_minor": 2
}
