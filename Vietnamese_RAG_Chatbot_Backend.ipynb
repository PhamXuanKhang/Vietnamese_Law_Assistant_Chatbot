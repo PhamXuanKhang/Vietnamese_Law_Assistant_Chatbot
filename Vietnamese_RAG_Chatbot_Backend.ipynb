{
  "cells": [
    {
      "cell_type": "markdown",
      "metadata": {
        "colab_type": "text",
        "id": "view-in-github"
      },
      "source": [
        "<a href=\"https://colab.research.google.com/github/tranmanhcuong253/Vietnamese-RAG-Chatbot/blob/main/Vietnamese_RAG_Chatbot_Backend.ipynb\" target=\"_parent\"><img src=\"https://colab.research.google.com/assets/colab-badge.svg\" alt=\"Open In Colab\"/></a>"
      ]
    },
    {
      "cell_type": "markdown",
      "metadata": {
        "id": "SEHLJnfPo9At"
      },
      "source": [
        "#0.Packages"
      ]
    },
    {
      "cell_type": "code",
      "execution_count": null,
      "metadata": {
        "colab": {
          "base_uri": "https://localhost:8080/"
        },
        "id": "0eBG5WNupBTQ",
        "outputId": "2c664a28-6fe0-4419-85bc-51951a43fd31"
      },
      "outputs": [],
      "source": [
        "# !pip install -qq scrapy\n",
        "# !pip install langchain\n",
        "# !pip install -qU langchain-community faiss-cpu\n",
        "# !pip install -qU langchain-openai\n",
        "# !pip install --upgrade --quiet  rank_bm25\n",
        "# !pip install langchain_experimental\n",
        "# !pip install -U FlagEmbedding"
      ]
    },
    {
      "cell_type": "code",
      "execution_count": null,
      "metadata": {
        "id": "4Q0MokRbL15a"
      },
      "outputs": [],
      "source": [
        "#Setup OPENAI_API_KEY\n",
        "from google.colab import userdata\n",
        "import os\n",
        "\n",
        "os.environ[\"OPENAI_API_KEY\"] = userdata.get('open_ai_key')"
      ]
    },
    {
      "cell_type": "markdown",
      "metadata": {
        "id": "VRiUqf9w0UmU"
      },
      "source": [
        "#1.Data Crawling"
      ]
    },
    {
      "cell_type": "code",
      "execution_count": null,
      "metadata": {
        "colab": {
          "base_uri": "https://localhost:8080/"
        },
        "id": "07RSmUDA4ToR",
        "outputId": "292418ef-07e8-4e2c-d53e-1cb681f2b2a3"
      },
      "outputs": [],
      "source": [
        "import requests\n",
        "import xml.etree.ElementTree as ET\n",
        "import json\n",
        "\n",
        "# URLs of the sitemaps\n",
        "sitemap_urls = [\n",
        "    'https://hoatuoimymy.com/product-sitemap1.xml',\n",
        "    'https://hoatuoimymy.com/product-sitemap2.xml'\n",
        "]\n",
        "\n",
        "all_urls = []\n",
        "\n",
        "# Function to fetch and parse XML\n",
        "def fetch_sitemap(url):\n",
        "    try:\n",
        "        response = requests.get(url)\n",
        "        response.raise_for_status()  # Check if the request was successful\n",
        "        root = ET.fromstring(response.content)\n",
        "        # Extract all <loc> elements that contain the URLs\n",
        "        for url_element in root.iter('{http://www.sitemaps.org/schemas/sitemap/0.9}loc'):\n",
        "            all_urls.append(url_element.text)\n",
        "    except Exception as e:\n",
        "        print(f\"Error fetching or parsing {url}: {e}\")\n",
        "\n",
        "# Fetch and parse both sitemaps\n",
        "for sitemap_url in sitemap_urls:\n",
        "    fetch_sitemap(sitemap_url)\n",
        "\n",
        "# Write the URLs to a JSON file\n",
        "with open('all_urls.json', 'w') as f:\n",
        "    json.dump(all_urls, f, indent=4)\n",
        "\n",
        "print(f\"Extracted {len(all_urls)} URLs and saved to all_urls.json\")\n"
      ]
    },
    {
      "cell_type": "code",
      "execution_count": null,
      "metadata": {
        "colab": {
          "base_uri": "https://localhost:8080/"
        },
        "id": "DH20Hdj84WLA",
        "outputId": "7ad73300-c083-492c-f68b-e6739b9d1a16"
      },
      "outputs": [],
      "source": [
        "import pandas as pd\n",
        "import json\n",
        "import re\n",
        "# Specify the filename\n",
        "filename = '/content/all_urls.json'\n",
        "\n",
        "# Load the all_urls list from the JSON file\n",
        "with open(filename, 'r') as file:\n",
        "    all_urls = json.load(file)\n",
        "\n",
        "print(f\"All URLs loaded from {filename}\")\n",
        "\n",
        "\n",
        "import scrapy\n",
        "from scrapy.crawler import CrawlerProcess\n",
        "from bs4 import BeautifulSoup\n",
        "\n",
        "class CustomSpider(scrapy.Spider):\n",
        "    name = 'custom_spider'\n",
        "    start_urls = all_urls\n",
        "\n",
        "    # Initialize a counter\n",
        "    request_count = 0\n",
        "\n",
        "    def parse(self, response):\n",
        "        self.request_count += 1  # Increment the counter with each request\n",
        "        description = \"\"\n",
        "\n",
        "        # Scraping the review title (h1 tag inside div.product_title)\n",
        "        review_title = response.css('h1.product-title::text').get()\n",
        "\n",
        "        if review_title:\n",
        "            h1_tag = review_title.strip()\n",
        "        else:\n",
        "            h1_tag = \"\"\n",
        "\n",
        "        # Now, h1_tag contains the content of the h1 tag\n",
        "        print(h1_tag)\n",
        "\n",
        "\n",
        "        price = response.css('span.woocommerce-Price-amount')\n",
        "\n",
        "        if price:\n",
        "            price = price.get().strip()\n",
        "        else:\n",
        "            price = \"\"\n",
        "        match = re.search(r'>([\\d.,]+₫)<', price)\n",
        "        if match:\n",
        "            price = match.group(1)\n",
        "        # Scraping the ck-content\n",
        "        ck_contents = response.css('div.woocommerce-Tabs-panel--description')\n",
        "\n",
        "        for ck_content in ck_contents:\n",
        "            for element in ck_content.xpath('./*'):\n",
        "                # Extract the text from h2 and h3 tags\n",
        "                if element.root.tag == 'h2':\n",
        "                    description += ' '.join(element.css('::text').getall()).strip() + \"\\n\"\n",
        "                elif element.root.tag == 'h3':\n",
        "                    description += ' '.join(element.css('::text').getall()).strip() + \"\\n\"\n",
        "\n",
        "                # Extract the text from p tags\n",
        "                elif element.root.tag == 'p':\n",
        "                    description += ' '.join(element.css('::text').getall()).strip() + \"\\n\"\n",
        "\n",
        "                # Extract the list items from ul tags\n",
        "                elif element.root.tag == 'ul':\n",
        "                    li_tags = element.css('li')\n",
        "                    for li_tag in li_tags:\n",
        "                        description += f\"- {' '.join(li_tag.css('::text').getall()).strip()}\" + \"\\n\"\n",
        "\n",
        "        # Initialize an empty array to hold image URLs\n",
        "        image_urls = []\n",
        "\n",
        "        # Select all the div elements with the specific class\n",
        "        image_elements = response.css('div.woocommerce-product-gallery__image')\n",
        "\n",
        "        # Loop through each image element to extract the URLs\n",
        "        for element in image_elements:\n",
        "            # Extract the main image URL from the 'data-large_image' attribute\n",
        "            image_url = element.css('img::attr(data-large_image)').get()\n",
        "\n",
        "            # Add the extracted image URL to the array\n",
        "            if image_url:\n",
        "                image_urls.append(image_url)\n",
        "\n",
        "        data = {}\n",
        "\n",
        "        if h1_tag and description:\n",
        "            data = {\n",
        "                \"url\": response.url,  # Add the URL of the request\n",
        "                \"content\": description,\n",
        "                \"price\": price,\n",
        "                \"title\": h1_tag,  # h1_tag is now guaranteed to be a string\n",
        "                \"image_urls\": image_urls\n",
        "            }\n",
        "\n",
        "            yield data\n",
        "        # Print out the current request count\n",
        "        print('====> h1_tag', h1_tag)\n",
        "        print('====>description', description)\n",
        "        print('====>image_urls', image_urls)\n",
        "        print('====>price', price)\n",
        "\n",
        "        self.logger.info(f\"Number of requests done: {self.request_count}\")\n",
        "        self.logger.info(f\"Crawled: {response.url}\")\n",
        "\n",
        "\n",
        "# Initialize the Scrapy crawler process\n",
        "process = CrawlerProcess({\n",
        "    'LOG_LEVEL': 'INFO',\n",
        "    'FEEDS': {\n",
        "        'output.json': {\n",
        "            'format': 'json',\n",
        "            'encoding': 'utf8',\n",
        "            'store_empty': False,\n",
        "            'fields': None,\n",
        "            'indent': 4,\n",
        "        },\n",
        "    },\n",
        "    'CLOSESPIDER_TIMEOUT': 60000000000,  # Close the spider after 60 seconds (adjust as needed)\n",
        "    'DOWNLOAD_DELAY': 3,  # Delay of 2 seconds between each request\n",
        "})\n",
        "\n",
        "# Start the spider\n",
        "process.crawl(CustomSpider)\n",
        "process.start()\n"
      ]
    },
    {
      "cell_type": "markdown",
      "metadata": {
        "id": "sVPoKWiwHt35"
      },
      "source": [
        "#2.Data Preprocessing"
      ]
    },
    {
      "cell_type": "markdown",
      "metadata": {
        "id": "og0HSAH5H01T"
      },
      "source": [
        "##2.1.Import JSON data"
      ]
    },
    {
      "cell_type": "code",
      "execution_count": null,
      "metadata": {
        "id": "t21L__VK4jQH"
      },
      "outputs": [],
      "source": [
        "import json\n",
        "\n",
        "# Load the `output.json` file\n",
        "with open('output.json', 'r',encoding=\"utf8\") as f:\n",
        "    data = json.load(f)"
      ]
    },
    {
      "cell_type": "code",
      "execution_count": null,
      "metadata": {
        "colab": {
          "base_uri": "https://localhost:8080/"
        },
        "id": "Yve4Rg0H6kUw",
        "outputId": "3f7fd1d5-0462-4df5-a3c4-de92e16604cc"
      },
      "outputs": [],
      "source": [
        "# Check the length of the file\n",
        "len(data)"
      ]
    },
    {
      "cell_type": "markdown",
      "metadata": {
        "id": "AImUMubLp4yT"
      },
      "source": [
        "##2.2.Remove excess characters and duplicate text"
      ]
    },
    {
      "cell_type": "code",
      "execution_count": null,
      "metadata": {
        "id": "vkR3epyd6xdR"
      },
      "outputs": [],
      "source": [
        "import re\n",
        "# Remove special characters\n",
        "for item in data:\n",
        "  item['content']= re.sub(r'[^\\S ]+', ' ', item['content'])"
      ]
    },
    {
      "cell_type": "code",
      "execution_count": null,
      "metadata": {
        "colab": {
          "base_uri": "https://localhost:8080/"
        },
        "id": "I6K75uvtwPwS",
        "outputId": "9e9967e7-8ad7-42d4-998d-5f1d2f07d916"
      },
      "outputs": [],
      "source": [
        "#Check the data sample format\n",
        "data[0]"
      ]
    },
    {
      "cell_type": "code",
      "execution_count": null,
      "metadata": {
        "id": "YisrCQ_n6mX9"
      },
      "outputs": [],
      "source": [
        "# The duplicated text of most records\n",
        "introduction = \"\"\"Hoa Tươi My My luôn là lựa chọn tốt nhất của những tín đồ yêu thích hoa. Với tiêu chí: - Hoa tươi mới được nhập về trong ngày - Cập nhật xu hướng hoa mới nhất trên thị trường - Các thiết kế hoa độc lạ và cực kỳ bắt mắt - Điện hoa nhanh chóng trong nội thành và các tỉnh lân cận - Hình ảnh hoa được cập nhật trước cho khách hàng khi gửi - Hoa đến tay đảm bảo còn tươi mới, đẹp và đáp ứng được mọi yêu cầu của khách - Hoàn trả tiền khi khách hàng không hài lòng - Bạn có thể đặt hoa nhanh ship 2-3h tại zalo shop\"\"\""
      ]
    },
    {
      "cell_type": "code",
      "execution_count": null,
      "metadata": {
        "colab": {
          "base_uri": "https://localhost:8080/"
        },
        "id": "K3rlqdml7O4E",
        "outputId": "6b3694a5-211e-449a-f1b1-57fcbe39cae9"
      },
      "outputs": [],
      "source": [
        "# Remove the duplicated text from all records and count the number of records containing that text\n",
        "count = 0\n",
        "exception = []\n",
        "for item in data:\n",
        "  if introduction in item['content']:\n",
        "    count = count + 1\n",
        "    item['content'] = item['content'].replace(introduction,\"\")\n",
        "  else:\n",
        "    exception.append(item)\n",
        "print(count)"
      ]
    },
    {
      "cell_type": "markdown",
      "metadata": {
        "id": "o29XGTGEAeqP"
      },
      "source": [
        "350 out of 351 records have the duplicated text."
      ]
    },
    {
      "cell_type": "code",
      "execution_count": null,
      "metadata": {
        "colab": {
          "base_uri": "https://localhost:8080/"
        },
        "id": "ytk-HafLgUiE",
        "outputId": "7ffa57c0-b7e3-4d41-96b6-e0f24ef03e28"
      },
      "outputs": [],
      "source": [
        "# The exception record which doesn't contain that text.\n",
        "exception"
      ]
    },
    {
      "cell_type": "code",
      "execution_count": null,
      "metadata": {
        "colab": {
          "base_uri": "https://localhost:8080/",
          "height": 174
        },
        "id": "QUGYx7E5OuB5",
        "outputId": "6d3277d0-f825-4038-f5bd-2b18776488ec"
      },
      "outputs": [],
      "source": [
        "# Sample record after removing the duplicated text\n",
        "data[0]['content']"
      ]
    },
    {
      "cell_type": "markdown",
      "metadata": {
        "id": "GJ24Jv3EIAkf"
      },
      "source": [
        "##2.3.Convert all the records into LangChain's Document format"
      ]
    },
    {
      "cell_type": "code",
      "execution_count": null,
      "metadata": {
        "id": "5LVTSXXrAjKK"
      },
      "outputs": [],
      "source": [
        "from uuid import uuid4\n",
        "from bs4 import BeautifulSoup\n",
        "from langchain_core.documents import Document"
      ]
    },
    {
      "cell_type": "code",
      "execution_count": null,
      "metadata": {
        "id": "IEUBLpWoAs7A"
      },
      "outputs": [],
      "source": [
        "list_of_documents = []\n",
        "for item in data:\n",
        "  # Extract the price value from HTML tag\n",
        "  soup = BeautifulSoup(item['price'], 'html.parser')\n",
        "  price = soup.bdi.text.strip()\n",
        "  content = item['title'] + ' - Giá tiền: ' + price + ' - ' + item['content']\n",
        "  # Convert the records to LangChain's Document format and append them to a list\n",
        "  list_of_documents.append(Document(page_content=content, metadata={\"source\": item['url'],\n",
        "                                                                    \"image_urls\":item['image_urls']}))"
      ]
    },
    {
      "cell_type": "code",
      "execution_count": null,
      "metadata": {
        "id": "L-oCvUHNg0Wj"
      },
      "outputs": [],
      "source": [
        "# Convert and append the duplicated text (the introduction) to the list in LangChain's Document format\n",
        "list_of_documents.append(Document(page_content = introduction))"
      ]
    },
    {
      "cell_type": "code",
      "execution_count": null,
      "metadata": {
        "colab": {
          "base_uri": "https://localhost:8080/"
        },
        "id": "zTiZse5aB2LF",
        "outputId": "dfbdc1d4-28b9-42ea-a57f-5f625ad7c48d"
      },
      "outputs": [],
      "source": [
        "# Check the length of the list\n",
        "len(list_of_documents)"
      ]
    },
    {
      "cell_type": "code",
      "execution_count": null,
      "metadata": {
        "colab": {
          "base_uri": "https://localhost:8080/"
        },
        "id": "V0VjJpTahGL0",
        "outputId": "80cafe86-18d7-4b85-e1e1-fbb5b985d4b8"
      },
      "outputs": [],
      "source": [
        "# Check the list sample\n",
        "list_of_documents[-1]"
      ]
    },
    {
      "cell_type": "markdown",
      "metadata": {
        "id": "tZnKa-NtFS1R"
      },
      "source": [
        "##2.4.Semantic Chunking"
      ]
    },
    {
      "cell_type": "code",
      "execution_count": null,
      "metadata": {
        "colab": {
          "base_uri": "https://localhost:8080/",
          "height": 145,
          "referenced_widgets": [
            "84c7903cf9164dce83e0be802cbf143d",
            "49dec0b3a7544028837447b289305f3e",
            "5fdb41f47b1a4f229b9cf7e2e96e86fb",
            "ecaf6852216b47a6b4cf12c7728abf49",
            "d3da0c212d1e424d8f6526c4e7b60889",
            "8b9879fc6b704128872450a6474411f0",
            "448f4aa82c36487c8c5099ebec6870e6",
            "078767a38e0f4997948e5b901d5ce0eb",
            "6b46f8bc6c1b4181b5c2ef7298262fc8",
            "7fae2bebaa1c4664b21d82571573c5f1",
            "f57d648bba5c41118ceaf50a1cce42f7",
            "7e3cad377d054c8b933f5d13ef9bec67",
            "d70c4e7ca51e4fb1ae1a665515aadc64",
            "0c01bde034bf4576a760fc9befdd17fe",
            "c8575d7549f54648be58e3055a17688f",
            "524098eb42c04945a4512a49871619ba",
            "161903d9c2fe456e92ceb7f6406261b1",
            "1bd6b773f1494d358ab7ceb74b826334",
            "bc764503d88848718ce3daa3b8bfa603",
            "c56a3e68f7d04f5a8370d605faa2b679",
            "69d54611a15745109961bae872cee7a4",
            "17a8845f069940cbabee085bb2ff8c05",
            "539292d0941b43fb8bccbe227dfd975b",
            "c9282748f479470f93c50b02bfbe6190",
            "36a5b46b0ab04958b90b69fc91a574ed",
            "9d5099bc6aa04895b39d41350524a446",
            "c15195caa4104d8993d872d2f1be13ac",
            "9f7d8113ff264060bc75ee210856c91f",
            "3bc7d960dbfe4e869351b4d82266ee85",
            "a3961d1c9bad4261a0e73feddeea7ca6",
            "9d1bc08e9ab44d01aa1419ffc79598f4",
            "c81f48fb5f474c79976a5e9c8634c2b8",
            "5e123c5e17d04764a7b603f4dd2293c9",
            "35c0cea36af8495897aa1c01223ed778",
            "a8ae977ac6264f79aed68aaaeafba0b8",
            "668ffa11dd97446583791d4cd38547c3",
            "8ff21dff341f4e0fa301cfc5217a2943",
            "81e5035594da428c8a04cbdf81f79441",
            "f3767a3c9bd8497eb24cdaec6862aa39",
            "57940f4bfd814b2ead1196a541ca7f2b",
            "b3e6be027bc04d55af60b2b95fd417d9",
            "18ac8ab2823a440bb04bfe27f2d4407e",
            "1b010ac9626243e5a72c01104e7cf029",
            "16cc00deb8c14e9380c06f05cbd9c75e"
          ]
        },
        "id": "5LBLCl9G2sGw",
        "outputId": "935d365a-a2eb-4072-d051-5a2ade9de8e7"
      },
      "outputs": [],
      "source": [
        "from transformers import AutoTokenizer\n",
        "\n",
        "# Load the tokenizer for the BAAI/bge-m3 model\n",
        "tokenizer = AutoTokenizer.from_pretrained(\"BAAI/bge-reranker-v2-m3\")"
      ]
    },
    {
      "cell_type": "code",
      "execution_count": null,
      "metadata": {
        "id": "veaLUl61vTBL"
      },
      "outputs": [],
      "source": [
        "# Using LangChain's SemanticChunker with the percentile strategy and a threshold of 85\n",
        "from langchain_experimental.text_splitter import SemanticChunker\n",
        "from langchain_openai.embeddings import OpenAIEmbeddings\n",
        "\n",
        "text_splitter = SemanticChunker(OpenAIEmbeddings(model = 'text-embedding-3-small', dimensions = 1024),breakpoint_threshold_type=\"percentile\",breakpoint_threshold_amount=85)"
      ]
    },
    {
      "cell_type": "code",
      "execution_count": null,
      "metadata": {
        "colab": {
          "base_uri": "https://localhost:8080/"
        },
        "id": "zcSYiB9H1SRh",
        "outputId": "b2216e26-c81b-4db8-f3f3-34fc8f75e562"
      },
      "outputs": [],
      "source": [
        "# Split the documents and count the number of chunks in each document, as well as the number of tokens in each chunk\n",
        "count = 0\n",
        "total = 0\n",
        "list_of_chunks = []\n",
        "for idx,doc in enumerate(list_of_documents):\n",
        "  chunks = text_splitter.create_documents([doc.page_content])\n",
        "  print(f'Number of chunks: {len(chunks)} - Tokens of each chunk',end=' ')\n",
        "  for chunk in chunks:\n",
        "      text = chunk.page_content\n",
        "      tokens = tokenizer.tokenize(text)\n",
        "      num_tokens = len(tokens)\n",
        "      if num_tokens > 1:\n",
        "        total = total + 1\n",
        "        # Use the parent document index as metadata to retrieve the parent document from the child chunk.\n",
        "        chunk.metadata['parent'] = idx\n",
        "        list_of_chunks.append(chunk)\n",
        "      if num_tokens > 512:\n",
        "        count = count + 1\n",
        "      print(num_tokens, end =' ')\n",
        "  print()\n",
        "print('Toltal chunks: ',total)\n",
        "print('Number of chunks which is larger than 512 tokens: ',count)"
      ]
    },
    {
      "cell_type": "code",
      "execution_count": null,
      "metadata": {
        "colab": {
          "base_uri": "https://localhost:8080/"
        },
        "id": "GMMuCJwY7wCL",
        "outputId": "07f7d906-742d-4639-f70a-f569bf96fb15"
      },
      "outputs": [],
      "source": [
        "# Total Chunks\n",
        "len(list_of_chunks)"
      ]
    },
    {
      "cell_type": "code",
      "execution_count": null,
      "metadata": {
        "colab": {
          "base_uri": "https://localhost:8080/"
        },
        "id": "fUEpfBmiB1ht",
        "outputId": "bdc0ade6-49e4-4947-f069-a0918ccd59a9"
      },
      "outputs": [],
      "source": [
        "# Chunk example\n",
        "list_of_chunks[-1]"
      ]
    },
    {
      "cell_type": "code",
      "execution_count": null,
      "metadata": {
        "id": "NUlaLdzuCBRL"
      },
      "outputs": [],
      "source": [
        "from uuid import uuid4\n",
        "uuids = [str(uuid4()) for _ in range(len(list_of_chunks))]"
      ]
    },
    {
      "cell_type": "markdown",
      "metadata": {
        "id": "V3MJfsONIS7L"
      },
      "source": [
        "#3.Retriever Module"
      ]
    },
    {
      "cell_type": "markdown",
      "metadata": {
        "id": "IUpplbRjInch"
      },
      "source": [
        "##3.1.FAISS Vector Store"
      ]
    },
    {
      "cell_type": "code",
      "execution_count": null,
      "metadata": {
        "id": "OW71FUGmDeSi"
      },
      "outputs": [],
      "source": [
        "# Load the OpenAIEmbeddings\n",
        "from langchain_openai import OpenAIEmbeddings\n",
        "\n",
        "embeddings = OpenAIEmbeddings(model = 'text-embedding-3-small', dimensions = 1024)"
      ]
    },
    {
      "cell_type": "code",
      "execution_count": null,
      "metadata": {
        "id": "l8LevgHyDu7d"
      },
      "outputs": [],
      "source": [
        "# Initialize the FAISS vector store\n",
        "import faiss\n",
        "from langchain_community.docstore.in_memory import InMemoryDocstore\n",
        "from langchain_community.vectorstores import FAISS\n",
        "from langchain_community.vectorstores.faiss import DistanceStrategy\n",
        "\n",
        "index = faiss.IndexFlatL2(len(embeddings.embed_query(\"hello world\")))\n",
        "\n",
        "vector_store = FAISS(\n",
        "    embedding_function=embeddings,\n",
        "    index=index,\n",
        "    docstore=InMemoryDocstore(),\n",
        "    index_to_docstore_id={},\n",
        ")"
      ]
    },
    {
      "cell_type": "code",
      "execution_count": null,
      "metadata": {
        "colab": {
          "base_uri": "https://localhost:8080/"
        },
        "id": "uOK93dS3D33H",
        "outputId": "8e8f069d-e217-4e20-ba9a-6f36dbb88838"
      },
      "outputs": [],
      "source": [
        "# Add all the chunks to the vector store\n",
        "vector_store.add_documents(documents=list_of_chunks, ids=uuids)"
      ]
    },
    {
      "cell_type": "code",
      "execution_count": null,
      "metadata": {
        "colab": {
          "base_uri": "https://localhost:8080/"
        },
        "id": "fEOiqVeJEBJf",
        "outputId": "ab333382-1a48-40f0-d9a8-011f448b9163"
      },
      "outputs": [],
      "source": [
        "# Similarity search example with the vector store\n",
        "semantic_results = vector_store.similarity_search(\n",
        "    \"Hoa hồng\",\n",
        "    k=10,\n",
        ")\n",
        "for res in semantic_results:\n",
        "    print(f\"* {res.page_content} [{res.metadata}]\")"
      ]
    },
    {
      "cell_type": "markdown",
      "metadata": {
        "id": "2NfKAvPxIxl6"
      },
      "source": [
        "##3.2.BM25 Retriever"
      ]
    },
    {
      "cell_type": "code",
      "execution_count": null,
      "metadata": {
        "id": "NUq9-VgxF_OB"
      },
      "outputs": [],
      "source": [
        "# Using BM25 retriever from LangChain\n",
        "from langchain_community.retrievers import BM25Retriever"
      ]
    },
    {
      "cell_type": "code",
      "execution_count": null,
      "metadata": {
        "id": "RXWJ4wJz_PLX"
      },
      "outputs": [],
      "source": [
        "# bm25_params = {\n",
        "#     \"k1\":1.25,\n",
        "#     \"b\":0.5\n",
        "# }"
      ]
    },
    {
      "cell_type": "code",
      "execution_count": null,
      "metadata": {
        "id": "EC-Y6wYlGCHu"
      },
      "outputs": [],
      "source": [
        "# Initialize the BM25 retriever with the configuration to search for the top 10 most relevant results\n",
        "bm25_retriever = BM25Retriever.from_documents(\n",
        "  list_of_chunks, k = 10\n",
        ")"
      ]
    },
    {
      "cell_type": "code",
      "execution_count": null,
      "metadata": {
        "id": "sgxSJCcqGMYD"
      },
      "outputs": [],
      "source": [
        "# Example with BM25 retriever\n",
        "bm25_results = bm25_retriever.invoke(\"Hoa hồng\")\n",
        "bm25_results"
      ]
    },
    {
      "cell_type": "markdown",
      "metadata": {
        "id": "p21YsG-yGc7C"
      },
      "source": [
        "##3.3.BGE-m3 Reranker"
      ]
    },
    {
      "cell_type": "code",
      "execution_count": null,
      "metadata": {
        "id": "4B7n20JQivwU"
      },
      "outputs": [],
      "source": [
        "# Get the result chunks from BM25 Retriever and FAISS vector search\n",
        "content = set()\n",
        "retrieval_docs = []\n",
        "\n",
        "for result in semantic_results:\n",
        "  if result.page_content not in content:\n",
        "    content.add(result.page_content)\n",
        "    retrieval_docs.append(result)\n",
        "\n",
        "for result in bm25_results:\n",
        "  if result.page_content not in content:\n",
        "    content.add(result.page_content)\n",
        "    retrieval_docs.append(result)\n",
        "\n",
        "len(retrieval_docs)"
      ]
    },
    {
      "cell_type": "code",
      "execution_count": null,
      "metadata": {
        "colab": {
          "base_uri": "https://localhost:8080/",
          "height": 448,
          "referenced_widgets": [
            "cf16d296febb4f85974f0ec79dfe423c",
            "331e46c300444d1e81e07e35a3df4fd0",
            "7921e70d29a941b6bb6c47f3af9bfcdb",
            "30c0971bdd694b0b8ef961d0599d23b2",
            "1c955bf1bf774e22a27c0e5a525c68b2",
            "6e209ed6890447a384386a5cfea63382",
            "5e71301c03d04bc59f611d97035bda85",
            "46b2ff40ee2840b28dab9ebcf5a14e29",
            "dfb8146753494b7386dd5eba6bdc8cc1",
            "c9700dd34e8042918f0914072a337862",
            "4391a9a3e9674d209182549011fe2aa5",
            "7a103c592fc4469498e7ec1e975b7337",
            "7227e039df064284a7ebdb53763e6396",
            "2875913c20c849fbba985b83a4075f08",
            "346e26a550dc480abe82c0fec0e3a7e0",
            "a5198efa59fc4d35862803f486797c42",
            "5b6db4664dd34a1c85d2a9d37ecdddd3",
            "a5c7132a01d14443a8214a06051267b6",
            "cb4030643524494f8c8f2457ea881ff0",
            "524290cbd96744a9aaffd5c702992927",
            "bc80c06e1df041849bac091be2a599d2",
            "3e8c4026751a4474a21feaabac928801"
          ]
        },
        "id": "3toO0wZw6-N8",
        "outputId": "d91558c2-0253-4ee3-a120-68de7fe15e3d"
      },
      "outputs": [],
      "source": [
        "# Use the BAAI/bge-reranker-v2-m3 model to rerank the order of the result chunks based on relevance score\n",
        "from FlagEmbedding import FlagReranker\n",
        "reranker = FlagReranker('BAAI/bge-reranker-v2-m3', use_fp16=True) # Setting use_fp16 to True speeds up computation with a slight performance degradation\n",
        "pairs = [[\"Hoa hồng\",doc.page_content] for doc in retrieval_docs]\n",
        "score = reranker.compute_score(pairs,normalize = True)\n",
        "score"
      ]
    },
    {
      "cell_type": "markdown",
      "metadata": {
        "id": "h_U-3j1VnoHZ"
      },
      "source": [
        "##3.4.Retriever"
      ]
    },
    {
      "cell_type": "code",
      "execution_count": null,
      "metadata": {
        "id": "2IESZ8nYmS2N"
      },
      "outputs": [],
      "source": [
        "# Put all the methods above into a class called 'Retriever'\n",
        "class Retriever:\n",
        "  def __init__(self, semantic_retriever, bm25_retriever, reranker):\n",
        "    self.semantic_retriever = semantic_retriever\n",
        "    self.bm25_retriever = bm25_retriever\n",
        "    self.reranker = reranker\n",
        "\n",
        "  def __call__(self,query):\n",
        "    semantic_results = self.semantic_retriever.similarity_search(\n",
        "      query,\n",
        "      k=10,\n",
        "    )\n",
        "    bm25_results = self.bm25_retriever.invoke(query)\n",
        "\n",
        "    content = set()\n",
        "    retrieval_docs = []\n",
        "\n",
        "    for result in semantic_results:\n",
        "      if result.page_content not in content:\n",
        "        content.add(result.page_content)\n",
        "        retrieval_docs.append(result)\n",
        "\n",
        "    for result in bm25_results:\n",
        "      if result.page_content not in content:\n",
        "        content.add(result.page_content)\n",
        "        retrieval_docs.append(result)\n",
        "\n",
        "    pairs = [[query,doc.page_content] for doc in retrieval_docs]\n",
        "\n",
        "    scores = self.reranker.compute_score(pairs,normalize = True)\n",
        "\n",
        "    # Retrieve the parent document from the child chunk based on a threshold score.\n",
        "    context_1 = []\n",
        "    context_2 = []\n",
        "    context = []\n",
        "    parent_ids = set()\n",
        "    for i in range(len(retrieval_docs)):\n",
        "      # Relevance score >= 0.6 will be used as context type 1 (indicating higher relevance to the query)\n",
        "      if scores[i] >= 0.6:\n",
        "        parent_idx = retrieval_docs[i].metadata['parent']\n",
        "        if parent_idx not in parent_ids:\n",
        "          parent_ids.add(parent_idx)\n",
        "          context_1.append(list_of_documents[parent_idx])\n",
        "      # Relevance score >= 0.1 will be used as context type 2 (indicating medium to lower relevance to the query)\n",
        "      elif scores[i] >= 0.1:\n",
        "        parent_idx = retrieval_docs[i].metadata['parent']\n",
        "        if parent_idx not in parent_ids:\n",
        "          parent_ids.add(parent_idx)\n",
        "          context_2.append(list_of_documents[parent_idx])\n",
        "      # If the relevance score < 0.1, it indicates that there are no relevant documents.\n",
        "    if len(context_1) > 0:\n",
        "      print('Context 1')\n",
        "      context=context_1\n",
        "    elif len(context_2) > 0:\n",
        "      print('Context 2')\n",
        "      context=context_2\n",
        "    else:\n",
        "      print('No relevant context')\n",
        "    return context\n"
      ]
    },
    {
      "cell_type": "code",
      "execution_count": null,
      "metadata": {
        "colab": {
          "base_uri": "https://localhost:8080/"
        },
        "id": "fCHy1Lvjrso-",
        "outputId": "8b9a805a-e043-47f4-f6c1-692013c62796"
      },
      "outputs": [],
      "source": [
        "# Test the Retriever\n",
        "retriever = Retriever(semantic_retriever = vector_store, bm25_retriever = bm25_retriever, reranker = reranker)\n",
        "context = retriever(\"Hoa hồng\")\n",
        "context"
      ]
    },
    {
      "cell_type": "markdown",
      "metadata": {
        "id": "7OsK3SkUpP2P"
      },
      "source": [
        "#4.Answer Generator"
      ]
    },
    {
      "cell_type": "markdown",
      "metadata": {
        "id": "37KABx0YqO6i"
      },
      "source": [
        "##4.1.Semantic Router"
      ]
    },
    {
      "cell_type": "code",
      "execution_count": null,
      "metadata": {
        "id": "2fry8mGDwbLZ"
      },
      "outputs": [],
      "source": [
        "flowerSamples = [\n",
        "    \"Tôi muốn mua hoa hồng đỏ để tặng vào ngày kỷ niệm, bạn có mẫu nào đẹp không?\",\n",
        "    \"Có loại hoa nào phù hợp để chúc mừng khai trương không?\",\n",
        "    \"Tôi cần một lẵng hoa màu vàng để chúc mừng sinh nhật, có loại nào không?\",\n",
        "    \"Bạn có hoa cưới dành riêng cho cô dâu không?\",\n",
        "    \"Tôi muốn mua hoa để tặng mẹ nhân ngày của Mẹ, có gợi ý gì không?\",\n",
        "    \"Hoa nào đẹp và lãng mạn để tặng người yêu vào ngày lễ tình nhân?\",\n",
        "    \"Tôi cần hoa để viếng đám tang, có loại nào phù hợp không?\",\n",
        "    \"Có bó hoa nào ý nghĩa để chúc mừng tốt nghiệp không?\",\n",
        "    \"Bạn có thể giới thiệu một bó hoa ngọt ngào để tặng người yêu không?\",\n",
        "    \"Tôi muốn mua hoa để tặng ngày Phụ nữ Việt Nam, bạn có mẫu nào phù hợp không?\",\n",
        "    \"Bó hoa nào phù hợp để tri ân thầy cô vào ngày Nhà giáo Việt Nam?\",\n",
        "    \"Tôi muốn đặt một giỏ hoa để chúc mừng công ty mới khai trương.\",\n",
        "    \"Bạn có hoa lan để làm quà tặng không?\",\n",
        "    \"Tôi cần một bó hoa tulip cho ngày kỷ niệm, bạn có loại nào không?\",\n",
        "    \"Hoa nào phù hợp để tặng vào dịp Tết Nguyên Đán?\",\n",
        "    \"Có bó hoa nào dễ thương cho sinh nhật bé gái không?\",\n",
        "    \"Tôi muốn mua giỏ hoa dành tặng bà nhân ngày lễ lớn, có loại nào không?\",\n",
        "    \"Bạn có thể làm một bó hoa kiểu cổ điển không?\",\n",
        "    \"Tôi cần hoa để trang trí bàn tiệc cưới, bạn có loại nào sang trọng không?\",\n",
        "    \"Hoa nào phù hợp để tặng đồng nghiệp trong dịp sinh nhật?\",\n",
        "    \"Tôi muốn một bó hoa lãng mạn để tặng vợ nhân kỷ niệm ngày cưới.\",\n",
        "    \"Tôi cần hoa tươi để trang trí cho một sự kiện lớn, bạn có loại nào phù hợp không?\",\n",
        "    \"Hoa nào phù hợp để gửi tặng người thân trong bệnh viện?\",\n",
        "    \"Tôi muốn đặt một lẵng hoa để chúc Tết ông bà, bạn có gợi ý nào không?\",\n",
        "    \"Có loại hoa nào phù hợp để tặng sinh nhật bạn mà trông nhẹ nhàng không?\",\n",
        "    \"Hoa nào thích hợp để chúc mừng bạn mới sinh con?\",\n",
        "    \"Tôi muốn đặt hoa cho lễ kỷ niệm thành lập công ty, có mẫu nào trang trọng không?\",\n",
        "    \"Có thể làm một bó hoa theo yêu cầu với màu trắng chủ đạo không?\",\n",
        "    \"Tôi muốn mua một bó hoa sen để tặng cho ông bà nhân ngày lễ lớn.\",\n",
        "    \"Hoa nào thường dùng để tặng trong dịp lễ Phật Đản?\",\n",
        "    \"Tôi cần hoa tặng đồng nghiệp trong lễ kỷ niệm công ty, có loại nào không?\",\n",
        "    \"Có bó hoa nào phù hợp để gửi tặng người thân đang đi xa không?\",\n",
        "    \"Tôi muốn hoa tươi và đơn giản để tặng cho người bạn thân.\",\n",
        "    \"Có loại hoa nào mang ý nghĩa may mắn cho dịp Tết không?\",\n",
        "    \"Hoa nào đẹp và ý nghĩa để tặng mẹ vào sinh nhật?\",\n",
        "    \"Tôi muốn một bó hoa với tông màu hồng để tặng bạn gái, bạn có gợi ý gì không?\",\n",
        "    \"Có loại hoa nào dễ bảo quản để làm quà không?\",\n",
        "    \"Tôi muốn đặt hoa cho lễ hội mùa xuân, có loại nào phù hợp không?\",\n",
        "    \"Hoa nào thích hợp để tặng vào lễ Phật Đản cho người lớn tuổi?\",\n",
        "    \"Tôi cần một giỏ hoa để chúc mừng bạn mở cửa hàng mới.\",\n",
        "    \"Có bó hoa nào độc đáo để chúc mừng sinh nhật đồng nghiệp không?\",\n",
        "    \"Hoa nào đẹp để tặng vợ nhân dịp ngày Phụ nữ?\",\n",
        "    \"Tôi muốn đặt hoa cho buổi họp mặt cuối năm, bạn có gợi ý gì không?\",\n",
        "    \"Có loại hoa nào tượng trưng cho sự thành công và phát đạt không?\",\n",
        "    \"Tôi cần một bó hoa dễ thương để chúc mừng bạn mới thăng chức.\",\n",
        "    \"Hoa nào ý nghĩa để tặng bố nhân dịp sinh nhật?\",\n",
        "    \"Tôi muốn hoa phù hợp để gửi lời chia buồn, bạn có loại nào không?\",\n",
        "    \"Có hoa nào nhẹ nhàng để chúc mừng sinh nhật bé trai không?\",\n",
        "    \"Tôi muốn tặng hoa cho cô giáo nhân ngày 20/11, bạn có mẫu nào không?\",\n",
        "    \"Hoa nào thích hợp để gửi tặng dịp giáng sinh?\",\n",
        "    \"Tôi cần hoa để trang trí không gian hội nghị, bạn có loại nào sang trọng không?\",\n",
        "    \"Hoa nào phù hợp để tặng đối tác trong ngày khai trương công ty?\",\n",
        "    \"Tôi muốn hoa lan để trưng bày trong dịp Tết Nguyên Đán.\",\n",
        "    \"Hoa nào thích hợp để tặng cho em gái nhân dịp sinh nhật?\",\n",
        "    \"Tôi cần một bó hoa mang màu sắc tươi sáng cho ngày lễ Phục sinh.\",\n",
        "    \"Có loại hoa nào đặc biệt để tặng ông bà nhân dịp mừng thọ không?\",\n",
        "    \"Tôi muốn đặt hoa tặng người yêu nhân dịp sinh nhật, có mẫu nào không?\",\n",
        "    \"Hoa nào ý nghĩa để chúc mừng đồng nghiệp thăng chức?\",\n",
        "    \"Tôi cần hoa để chúc mừng mẹ nhân ngày lễ Quốc tế Phụ nữ.\",\n",
        "    \"Có loại hoa nào phù hợp để gửi tặng bạn cũ nhân dịp gặp lại không?\",\n",
        "    \"Tôi muốn một giỏ hoa thanh nhã để tặng người lớn tuổi nhân dịp Tết.\",\n",
        "    \"Hoa nào đẹp để gửi lời cám ơn đến sếp?\",\n",
        "    \"Tôi muốn hoa lan cho sinh nhật bà ngoại, có mẫu nào không?\",\n",
        "    \"Có hoa nào dễ chăm sóc để tặng người thân ở bệnh viện không?\",\n",
        "    \"Tôi cần hoa để trang trí cho lễ hội đêm giao thừa, bạn có loại nào không?\",\n",
        "    \"Hoa nào thích hợp để tặng cho bố nhân dịp lễ Cha?\",\n",
        "    \"Tôi muốn đặt hoa theo yêu cầu với sắc đỏ chủ đạo để tặng vào Valentine.\",\n",
        "    \"Có bó hoa nào đặc biệt để tặng bạn thân nhân dịp sinh nhật?\",\n",
        "    \"Tôi muốn đặt hoa mừng ngày Nhà giáo, có loại nào trang nhã không?\",\n",
        "    \"Hoa nào thích hợp để tặng trong lễ kỷ niệm 10 năm ngày cưới?\",\n",
        "    \"Có loại hoa nào ý nghĩa để gửi lời xin lỗi không?\",\n",
        "    \"Tôi muốn một bó hoa rực rỡ để tặng bạn gái, có mẫu nào không?\",\n",
        "    \"Hoa nào phổ biến để gửi tặng người thân trong ngày lễ Halloween?\",\n",
        "    \"Tôi cần hoa tặng đồng nghiệp nữ, có mẫu nào nữ tính không?\",\n",
        "    \"Có bó hoa nào dành riêng cho dịp tốt nghiệp không?\",\n",
        "    \"Tôi muốn hoa để trang trí phòng khách dịp Tết, có loại nào sang trọng không?\",\n",
        "    \"Hoa nào ý nghĩa để tặng người thân nhân dịp năm mới?\",\n",
        "    \"Tôi muốn đặt hoa cho lễ mừng thọ ông bà, bạn có gợi ý gì không?\",\n",
        "    \"Có loại hoa nào đặc biệt dành cho ngày Valentine không?\",\n",
        "    \"Tôi cần hoa để tặng người mới khỏi bệnh, có loại nào không?\",\n",
        "    \"Hoa nào đẹp và ý nghĩa để gửi tặng thầy cô nhân ngày Nhà giáo?\",\n",
        "    \"Tôi muốn hoa đơn giản để gửi tặng bạn bè vào dịp lễ Quốc tế Lao động.\",\n",
        "    \"Có bó hoa nào dễ thương để chúc mừng bạn vừa sinh con gái không?\",\n",
        "    \"Hoa nào ý nghĩa để tặng nhân dịp kỷ niệm 20 năm ngày cưới?\",\n",
        "    \"Tôi cần hoa tặng đồng nghiệp trong lễ chia tay, bạn có mẫu nào không?\",\n",
        "    \"Hoa nào mang thông điệp hy vọng để tặng người đang trải qua khó khăn?\",\n",
        "    \"Tôi muốn một bó hoa trắng cho lễ tốt nghiệp, có loại nào không?\",\n",
        "    \"Có loại hoa nào thích hợp để chúc mừng bạn chuyển nhà không?\",\n",
        "    \"Tôi muốn mua hoa để tặng nhân viên vào dịp cuối năm, bạn có gợi ý không?\",\n",
        "    \"Hoa nào đặc biệt để tặng bạn gái nhân kỷ niệm 1 năm quen nhau?\",\n",
        "    \"Tôi cần hoa để chúc mừng ngày thành lập công ty, bạn có loại nào không?\",\n",
        "    \"Hoa nào phù hợp để tặng dịp lễ Tạ ơn?\",\n",
        "    \"Tôi muốn đặt hoa cho lễ giáng sinh, có mẫu nào phù hợp không?\",\n",
        "    \"Có loại hoa nào phù hợp để trang trí cho lễ hội mùa hè không?\",\n",
        "    \"Tôi muốn một bó hoa dễ bảo quản để tặng bà ngoại.\",\n",
        "    \"Hoa nào thường dùng để chúc mừng bạn thăng chức?\",\n",
        "    \"Tôi muốn hoa nhẹ nhàng để gửi lời cám ơn mẹ nhân dịp đặc biệt.\",\n",
        "    \"Hoa nào đẹp để tặng vợ vào lễ kỷ niệm kết hôn?\",\n",
        "    \"Tôi cần hoa tặng người mới sinh em bé, bạn có mẫu nào dễ thương không?\",\n",
        "    \"Có hoa nào tượng trưng cho tình bạn để tặng bạn thân không?\"\n",
        "]\n"
      ]
    },
    {
      "cell_type": "code",
      "execution_count": null,
      "metadata": {
        "id": "T5NWpF_Czx88"
      },
      "outputs": [],
      "source": [
        "chatSamples =  [\n",
        "    \"Chào bạn! Hôm nay thời tiết thế nào nhỉ?\",\n",
        "    \"Mùa này có gì thú vị không bạn?\",\n",
        "    \"Hello shop\",\n",
        "    \"Chàp shop\",\n",
        "    \"Chào bạn! Hôm nay bạn thế nào?\",\n",
        "    \"Bạn thích làm việc ở đây không?\",\n",
        "    \"Bạn có thích mùa hè không?\",\n",
        "    \"Bạn có thể kể một câu chuyện vui không?\",\n",
        "    \"Bạn có nghe loại nhạc nào không?\",\n",
        "    \"Bạn nghĩ gì về việc đọc sách vào buổi sáng?\",\n",
        "    \"Bạn thích ăn món gì nhất?\",\n",
        "    \"Bạn có kế hoạch gì cho cuối tuần không?\",\n",
        "    \"Bạn có thích thể thao không?\",\n",
        "    \"Bạn có hay du lịch không?\",\n",
        "    \"Bạn thích màu gì nhất?\",\n",
        "    \"Bạn có câu châm ngôn sống nào không?\",\n",
        "    \"Có nơi nào bạn muốn ghé thăm không?\",\n",
        "    \"Bạn thích hoạt động ngoài trời không?\",\n",
        "    \"Có quyển sách nào bạn muốn giới thiệu không?\",\n",
        "    \"Bạn có lời khuyên gì cho một cuộc sống hạnh phúc không?\",\n",
        "    \"Bạn có thói quen nào vào buổi sáng không?\",\n",
        "    \"Bạn có thú cưng không?\",\n",
        "    \"Bạn thích âm nhạc loại nào?\",\n",
        "    \"Bạn thích mùa nào nhất trong năm?\",\n",
        "    \"Bạn có hay xem phim không?\",\n",
        "    \"Bạn có tin vào may mắn không?\",\n",
        "    \"Bạn có đam mê nào khác không?\",\n",
        "    \"Có điều gì đặc biệt mà bạn muốn học không?\",\n",
        "    \"Bạn có lời khuyên nào để có năng lượng tích cực không?\",\n",
        "    \"Bạn thích làm gì vào thời gian rảnh?\",\n",
        "    \"Có bài hát nào bạn yêu thích không?\",\n",
        "    \"Bạn có thói quen tập thể dục không?\",\n",
        "    \"Bạn có thể kể về một ngày thú vị của mình không?\",\n",
        "    \"Bạn đã bao giờ tham gia sự kiện nào lớn chưa?\",\n",
        "    \"Có bộ phim nào mà bạn không bao giờ quên không?\",\n",
        "    \"Bạn có thích làm việc cùng đồng nghiệp không?\",\n",
        "    \"Bạn có mơ ước nào chưa thực hiện không?\",\n",
        "    \"Bạn nghĩ gì về cuộc sống thành thị?\",\n",
        "    \"Bạn đã học được gì khi làm việc ở đây?\",\n",
        "    \"Bạn có người thân nào cũng làm nghề này không?\",\n",
        "    \"Có món nào bạn hay ăn vào mùa hè không?\",\n",
        "    \"Bạn có thích mùa đông không?\",\n",
        "    \"Có khi nào bạn gặp khách hàng khó tính không?\",\n",
        "    \"Bạn có dự định học thêm gì không?\",\n",
        "    \"Có gì đặc biệt bạn muốn chia sẻ hôm nay không?\",\n",
        "    \"Bạn thích ngắm hoàng hôn hay bình minh?\",\n",
        "    \"Bạn nghĩ sao về phong cách sống tối giản?\",\n",
        "    \"Có sở thích nào bạn muốn khám phá không?\",\n",
        "    \"Bạn có thích làm việc nhóm không?\",\n",
        "    \"Bạn có hay chụp ảnh không?\",\n",
        "    \"Bạn có tin vào số mệnh không?\",\n",
        "    \"Bạn nghĩ gì về việc sống ở vùng quê?\",\n",
        "    \"Có trò chơi nào bạn hay chơi không?\",\n",
        "    \"Bạn có lời khuyên nào về sức khỏe không?\",\n",
        "    \"Bạn có thích nấu ăn không?\",\n",
        "    \"Có địa điểm nào bạn muốn đến thử không?\",\n",
        "    \"Bạn có thói quen gì vào buổi tối không?\",\n",
        "    \"Có món nào bạn đặc biệt ghét không?\",\n",
        "    \"Bạn thích tham gia sự kiện nào nhất?\",\n",
        "    \"Có bài hát nào làm bạn vui không?\",\n",
        "    \"Bạn có thích sưu tầm gì không?\",\n",
        "    \"Bạn có thích trồng cây không?\",\n",
        "    \"Bạn có lời khuyên nào về việc giảm căng thẳng không?\",\n",
        "    \"Bạn có thích làm việc ở đây lâu dài không?\",\n",
        "    \"Có bộ phim nào bạn xem lại nhiều lần không?\",\n",
        "    \"Bạn thích làm gì vào cuối tuần?\",\n",
        "    \"Bạn có tin vào tâm linh không?\",\n",
        "    \"Bạn có thể chia sẻ một câu nói yêu thích không?\",\n",
        "    \"Có điều gì thú vị về công việc này không?\",\n",
        "    \"Bạn có thường đi xem triển lãm nghệ thuật không?\",\n",
        "    \"Bạn có nghĩ mình sẽ chuyển nghề không?\",\n",
        "    \"Bạn thích đồ uống gì nhất?\",\n",
        "    \"Bạn có thói quen viết nhật ký không?\",\n",
        "    \"Bạn nghĩ sao về du lịch một mình?\",\n",
        "    \"Có trò nào bạn thích chơi từ nhỏ không?\",\n",
        "    \"Bạn có thường gặp khách du lịch không?\",\n",
        "    \"Bạn có thể chia sẻ bí quyết thành công không?\",\n",
        "    \"Bạn nghĩ sao về việc tự kinh doanh?\",\n",
        "    \"Bạn có thích đi phượt không?\",\n",
        "    \"Có món ăn nào bạn không thể cưỡng lại không?\",\n",
        "    \"Bạn nghĩ gì về công việc tình nguyện?\",\n",
        "    \"Bạn có sở thích nào mới không?\",\n",
        "    \"Bạn có thích chụp ảnh phong cảnh không?\",\n",
        "    \"Bạn có thể kể một bí mật nhỏ không?\",\n",
        "    \"Có nơi nào bạn muốn quay lại nhiều lần không?\",\n",
        "    \"Bạn có thể chia sẻ điều gì đó vui nhộn không?\",\n",
        "]\n"
      ]
    },
    {
      "cell_type": "code",
      "execution_count": null,
      "metadata": {
        "colab": {
          "base_uri": "https://localhost:8080/"
        },
        "id": "7IXvOMW80i-x",
        "outputId": "c8375543-cd7a-4bad-87a7-d44b3a6fc98d"
      },
      "outputs": [],
      "source": [
        "len(chatSamples),len(flowerSamples)"
      ]
    },
    {
      "cell_type": "code",
      "execution_count": null,
      "metadata": {
        "id": "qbgDkETg0k8d"
      },
      "outputs": [],
      "source": [
        "from typing import List\n",
        "class Route():\n",
        "    def __init__(\n",
        "        self,\n",
        "        name: str = None,\n",
        "        samples:List = []\n",
        "    ):\n",
        "\n",
        "        self.name = name\n",
        "        self.samples = samples"
      ]
    },
    {
      "cell_type": "code",
      "execution_count": null,
      "metadata": {
        "id": "pTC_sn4D008h"
      },
      "outputs": [],
      "source": [
        "import numpy as np\n",
        "\n",
        "class SemanticRouter():\n",
        "    def __init__(self, routes, embedding = embeddings):\n",
        "        self.routes = routes\n",
        "        self.embedding = embedding\n",
        "        self.routesEmbedding = {}\n",
        "\n",
        "        for route in self.routes:\n",
        "            self.routesEmbedding[\n",
        "                route.name\n",
        "            ] = self.embedding.embed_documents(route.samples)\n",
        "\n",
        "    def get_routes(self):\n",
        "        return self.routes\n",
        "\n",
        "    def guide(self, query):\n",
        "        queryEmbedding = self.embedding.embed_query(query)\n",
        "        queryEmbedding = queryEmbedding / np.linalg.norm(queryEmbedding)\n",
        "        scores = []\n",
        "\n",
        "        # Calculate the cosine similarity of the query embedding with the sample embeddings of the router.\n",
        "\n",
        "        for route in self.routes:\n",
        "            routesEmbedding = self.routesEmbedding[route.name] / np.linalg.norm(self.routesEmbedding[route.name])\n",
        "            score = np.mean(np.dot(routesEmbedding, queryEmbedding.T).flatten())\n",
        "            scores.append((score, route.name))\n",
        "\n",
        "        scores.sort(reverse=True)\n",
        "        return scores"
      ]
    },
    {
      "cell_type": "code",
      "execution_count": null,
      "metadata": {
        "id": "6_pFDM_G1cIx"
      },
      "outputs": [],
      "source": [
        "# Test the Semantic Router\n",
        "flowerRoute = Route(name = 'flower', samples = flowerSamples)\n",
        "chatRoute = Route(name = 'chat', samples = chatSamples)\n",
        "semanticRoute = SemanticRouter(routes = [flowerRoute, chatRoute])"
      ]
    },
    {
      "cell_type": "code",
      "execution_count": null,
      "metadata": {
        "id": "Vjz4UGYP2Y3C"
      },
      "outputs": [],
      "source": [
        "testSamples = [\n",
        "    \"Tôi muốn mua hoa hồng đỏ để tặng vào ngày kỷ niệm, bạn có mẫu nào đẹp không?\",\n",
        "    \"Có loại hoa nào phù hợp để chúc mừng khai trương không?\",\n",
        "    \"Tôi cần một lẵng hoa màu vàng để chúc mừng sinh nhật, có loại nào không?\",\n",
        "    \"Shop ơi cho mình hỏi một chút\",\n",
        "    \"Hello shop\",\n",
        "    \"Xin chào, hôm nay bạn thế nào\",\n",
        "    \"Tớ muốn tâm sự với cậu một chút\",\n",
        "    \"Hi Shop, mình muốn tư vấn\"\n",
        "]"
      ]
    },
    {
      "cell_type": "code",
      "execution_count": null,
      "metadata": {
        "colab": {
          "base_uri": "https://localhost:8080/"
        },
        "id": "6CL3M0Ym23DP",
        "outputId": "11f0eb27-6d25-441e-9b0c-a339d2d5d0ac"
      },
      "outputs": [],
      "source": [
        "for sample in testSamples:\n",
        "  route = semanticRoute.guide(sample)\n",
        "  print(route)"
      ]
    },
    {
      "cell_type": "markdown",
      "metadata": {
        "id": "ecoepHFC3Bqc"
      },
      "source": [
        "##4.2.Reflection"
      ]
    },
    {
      "cell_type": "code",
      "execution_count": null,
      "metadata": {
        "id": "zt-GT76aqixt"
      },
      "outputs": [],
      "source": [
        "from langchain_core.messages import AIMessage,HumanMessage\n",
        "from langchain_core.prompts import ChatPromptTemplate, PromptTemplate\n",
        "from langchain_openai import ChatOpenAI"
      ]
    },
    {
      "cell_type": "code",
      "execution_count": null,
      "metadata": {
        "id": "R3Vd0yNysCea"
      },
      "outputs": [],
      "source": [
        "class Reflection():\n",
        "    def __init__(self, llm):\n",
        "        self.llm = llm\n",
        "\n",
        "\n",
        "    def __call__(self, chatHistory, lastItemsConsidereds=100):\n",
        "\n",
        "        if len(chatHistory) >= lastItemsConsidereds:\n",
        "            chatHistory = chatHistory[len(chatHistory) - lastItemsConsidereds:]\n",
        "\n",
        "        history_string = \"\\n\".join(\n",
        "            [\n",
        "                f\"{message['role']} : {message['content']}\"\n",
        "                for message in chatHistory[:-1]\n",
        "            ]\n",
        "        )\n",
        "\n",
        "        chat_template = PromptTemplate.from_template(\n",
        "            \"\"\"Given a chat history and the latest user question which might reference context in the chat history,\n",
        "        formulate a standalone question in Vietnamese which can be understood without the chat history.\n",
        "        Do NOT answer the question, just reformulate it if needed and otherwise return it as is.\n",
        "\n",
        "        Chat History:\n",
        "        {history_string}\n",
        "\n",
        "        Latest User Question:\n",
        "        {input}\"\"\"\n",
        "        )\n",
        "\n",
        "        chain = chat_template | self.llm\n",
        "        response = chain.invoke({\"input\": chatHistory[-1][\"content\"], \"history_string\": history_string})\n",
        "\n",
        "        return response.content"
      ]
    },
    {
      "cell_type": "code",
      "execution_count": null,
      "metadata": {
        "id": "h8gnJpBtuD7U"
      },
      "outputs": [],
      "source": [
        "# Test the Reflection\n",
        "llm = ChatOpenAI(model=\"gpt-4o\",temperature = 1.0)\n",
        "reflection = Reflection(llm)"
      ]
    },
    {
      "cell_type": "code",
      "execution_count": null,
      "metadata": {
        "id": "7Hd5ZwSyGFHL"
      },
      "outputs": [],
      "source": [
        "chatHistory = [{\"role\": \"user\", \"content\": \"Xin chào shop\"},\n",
        "               {\"role\": \"assistant\", \"content\": \"Chào bạn tôi có thể giúp gì cho bạn\"},\n",
        "               {\"role\": \"user\", \"content\": \"Tôi cần tư vấn một số lẵng hoa 2 tầng\"},\n",
        "               {\"role\": \"assistant\", \"content\":\"Bạn muốn tư vấn lẵng hoa với hoa gì?\"},\n",
        "               {\"role\": \"user\", \"content\": \"Hoa hồng\"}]\n"
      ]
    },
    {
      "cell_type": "code",
      "execution_count": null,
      "metadata": {
        "colab": {
          "base_uri": "https://localhost:8080/",
          "height": 53
        },
        "id": "ahsuowRvG5iQ",
        "outputId": "251b60ec-0592-4d30-ce4c-a61876471ee3"
      },
      "outputs": [],
      "source": [
        "history_string = \"\\n\".join(\n",
        "    [\n",
        "        f\"{message['role']} : {message['content']}\"\n",
        "        for message in chatHistory[:-1]\n",
        "    ]\n",
        ")\n",
        "history_string"
      ]
    },
    {
      "cell_type": "code",
      "execution_count": null,
      "metadata": {
        "colab": {
          "base_uri": "https://localhost:8080/",
          "height": 35
        },
        "id": "VoVsotYCusyM",
        "outputId": "fd21f4e8-a6e1-49e5-c6ce-d72eae2b3827"
      },
      "outputs": [],
      "source": [
        "reflection(chatHistory)"
      ]
    },
    {
      "cell_type": "markdown",
      "metadata": {
        "id": "lbsp0gYK2XeV"
      },
      "source": [
        "##4.3.LLM Generator"
      ]
    },
    {
      "cell_type": "code",
      "execution_count": null,
      "metadata": {
        "id": "lyE9Uyd12a8N"
      },
      "outputs": [],
      "source": [
        "# Initialize the OpenAI GPT-4 mini model with an answer prompt and combine them into a chain\n",
        "answerModel = ChatOpenAI(model=\"gpt-4o-mini\",temperature = 0.5)"
      ]
    },
    {
      "cell_type": "code",
      "execution_count": null,
      "metadata": {
        "id": "kMNB8Ece2lNk"
      },
      "outputs": [],
      "source": [
        "answerPrompt = PromptTemplate.from_template(\"\"\"\n",
        "    Hãy trở thành chuyên gia tư vấn bán hàng cho một cửa hàng bán lẵng hoa.\n",
        "    Câu hỏi của khách hàng: {query}\\nTrả lời câu hỏi dựa vào các thông tin sản phẩm dưới đây: {source_information}.\n",
        "\"\"\")"
      ]
    },
    {
      "cell_type": "code",
      "execution_count": null,
      "metadata": {
        "id": "LrVMrR9n2-Qc"
      },
      "outputs": [],
      "source": [
        "answerChain = answerPrompt | answerModel"
      ]
    },
    {
      "cell_type": "markdown",
      "metadata": {
        "id": "IeyK7XFUZcn0"
      },
      "source": [
        "#4'.Agent Tools (using for RAG version 2)"
      ]
    },
    {
      "cell_type": "code",
      "execution_count": null,
      "metadata": {
        "colab": {
          "base_uri": "https://localhost:8080/"
        },
        "id": "Hty8upiRiT2D",
        "outputId": "5a4c5628-6a19-4c85-c656-0567321bc6ab"
      },
      "outputs": [],
      "source": [
        "from langchain.pydantic_v1 import BaseModel, Field\n",
        "from langchain.tools import BaseTool\n",
        "from typing import Optional, Type, List"
      ]
    },
    {
      "cell_type": "code",
      "execution_count": null,
      "metadata": {
        "id": "qIyecng_Zgsv"
      },
      "outputs": [],
      "source": [
        "# Define a BaseModel Retrieve class for LLM tool calling\n",
        "class Retrieve(BaseModel):\n",
        "    \"\"\"\n",
        "    Searches the knowledge base for answers. The query parameter should contain the contextualized question to search for in the knowledge base.\n",
        "    \"\"\"\n",
        "    query: str = Field(description=\"should be a search query\")\n"
      ]
    },
    {
      "cell_type": "code",
      "execution_count": null,
      "metadata": {
        "id": "bHv-VoDEiW_h"
      },
      "outputs": [],
      "source": [
        "# The toolPrompt version 1\n",
        "toolPrompt = PromptTemplate.from_template(\"\"\"\n",
        "    You are an AI assistant of a flower shop.\n",
        "    \\\\nYou do not know anything about the information and operating procedures of the shop,\n",
        "    must not answer the user directly, instead *** use the tools to get the most accurate information.***\n",
        "    \\\\nIf user just wanna say hello, thank you, normal talk or ask for some life advice, general knowledge, you can reply.\n",
        "    \\\\n However, in any other situation, you must use the tool \\'Retrieve\\' without exception.\n",
        "    \\\\n Your customers are Vietnamese, so always reply in Vietnamese.\n",
        "    \\\\n Here is your chat history: {chat_history}\n",
        "\"\"\")"
      ]
    },
    {
      "cell_type": "code",
      "execution_count": null,
      "metadata": {
        "id": "Xzz4BFeQ2rlI"
      },
      "outputs": [],
      "source": [
        "# The toolPrompt version 2\n",
        "toolPrompt = PromptTemplate.from_template(\"\"\"\n",
        "    You are an AI assistant of a flower shop.\n",
        "    For any questions regarding flower products, you ***must use the `Retrieve` tool*** to obtain accurate information.\n",
        "    To use the `Retrieve` tool, take the user's most recent question as well as relevant chat history, extract a clear, concise search query from the question and chat context. Pass this query to the `Retrieve` tool by setting the `query` parameter.\n",
        "    For all other questions or general interactions, such as greetings, expressions of gratitude, or requests for life advice or general knowledge, you may reply directly.\n",
        "    \\\\n Your customers are Vietnamese, so always reply in Vietnamese.\n",
        "    \\\\n Here is your chat history: {chat_history}\n",
        "\"\"\")"
      ]
    },
    {
      "cell_type": "code",
      "execution_count": null,
      "metadata": {
        "id": "g8Lq2gzzjmGU"
      },
      "outputs": [],
      "source": [
        "# Initialize a LLM with tool\n",
        "llm = ChatOpenAI(model='gpt-4o',temperature = 0.5)\n",
        "agent = llm.bind_tools([Retrieve])\n",
        "agentChain = toolPrompt | agent"
      ]
    },
    {
      "cell_type": "code",
      "execution_count": null,
      "metadata": {
        "colab": {
          "base_uri": "https://localhost:8080/",
          "height": 53
        },
        "id": "nSmluKKukG-d",
        "outputId": "da347096-cae9-49a1-f777-0af2837cb72c"
      },
      "outputs": [],
      "source": [
        "# Test the tool calling with a conversation about Flower products\n",
        "flowerChatHistory = [{\"role\": \"user\", \"content\": \"Xin chào shop\"},\n",
        "               {\"role\": \"assistant\", \"content\": \"Chào bạn tôi có thể giúp gì cho bạn\"},\n",
        "               {\"role\": \"user\", \"content\": \"Tôi cần tư vấn một số lẵng hoa 2 tầng\"},\n",
        "               {\"role\": \"assistant\", \"content\":\"Bạn muốn tư vấn lẵng hoa với hoa gì?\"},\n",
        "               {\"role\": \"user\", \"content\": \"Hoa hồng\"}]\n",
        "flower_history_string = \"\\n\".join(\n",
        "    [\n",
        "        f\"{message['role']} : {message['content']}\"\n",
        "        for message in flowerChatHistory\n",
        "    ]\n",
        ")\n",
        "flower_history_string"
      ]
    },
    {
      "cell_type": "code",
      "execution_count": null,
      "metadata": {
        "id": "al8wP2J9wVy9"
      },
      "outputs": [],
      "source": [
        "response = agentChain.invoke({\"chat_history\":flower_history_string})"
      ]
    },
    {
      "cell_type": "code",
      "execution_count": null,
      "metadata": {
        "colab": {
          "base_uri": "https://localhost:8080/"
        },
        "id": "vbOVQqQxz7V4",
        "outputId": "eddc1161-a213-4c79-c36e-40c686b605f8"
      },
      "outputs": [],
      "source": [
        "# Format of a tool calling response\n",
        "response.additional_kwargs['tool_calls']"
      ]
    },
    {
      "cell_type": "code",
      "execution_count": null,
      "metadata": {
        "colab": {
          "base_uri": "https://localhost:8080/",
          "height": 35
        },
        "id": "FSF9VIz-kdMI",
        "outputId": "61ddf049-12fe-43e6-d6b5-c267c659ffeb"
      },
      "outputs": [],
      "source": [
        "# Test the tool calling with a normal, chitchat conversation\n",
        "chatHistory = [{\"role\": \"user\", \"content\": \"Xin chào shop\"},\n",
        "               {\"role\": \"assistant\", \"content\": \"Chào bạn tôi có thể giúp gì cho bạn\"},\n",
        "               {\"role\": \"user\", \"content\": \"Quốc kỳ Việt Nam có bao nhiêu màu?\"}]\n",
        "history_string = \"\\n\".join(\n",
        "    [\n",
        "        f\"{message['role']} : {message['content']}\"\n",
        "        for message in chatHistory\n",
        "    ]\n",
        ")\n",
        "history_string"
      ]
    },
    {
      "cell_type": "code",
      "execution_count": null,
      "metadata": {
        "colab": {
          "base_uri": "https://localhost:8080/"
        },
        "id": "Tn_sjFqTvzTN",
        "outputId": "74ddf73b-6c32-4ffa-e1f7-761dfeb54a04"
      },
      "outputs": [],
      "source": [
        "agentChain.invoke({\"chat_history\":history_string})"
      ]
    },
    {
      "cell_type": "markdown",
      "metadata": {
        "id": "LbZDooePUXww"
      },
      "source": [
        "#5.API"
      ]
    },
    {
      "cell_type": "code",
      "execution_count": null,
      "metadata": {
        "colab": {
          "base_uri": "https://localhost:8080/"
        },
        "id": "oXZ5E9wBUapi",
        "outputId": "4bb0f2b2-f4e4-4611-a453-c6c6b712a2b5"
      },
      "outputs": [],
      "source": [
        "!pip install pyngrok\n",
        "!pip install flask_cors"
      ]
    },
    {
      "cell_type": "code",
      "execution_count": null,
      "metadata": {
        "id": "an-_JSghWo7a"
      },
      "outputs": [],
      "source": [
        "import os\n",
        "import json\n",
        "from google.colab import userdata\n",
        "from pyngrok import ngrok\n",
        "from flask import Flask, jsonify, request\n",
        "from flask_cors import CORS"
      ]
    },
    {
      "cell_type": "code",
      "execution_count": null,
      "metadata": {
        "colab": {
          "base_uri": "https://localhost:8080/"
        },
        "id": "Bh-i0thNW1dP",
        "outputId": "37cb6880-82d1-4280-f202-0372e4122be9"
      },
      "outputs": [],
      "source": [
        "# Replace 'YOUR_NGROK_AUTHTOKEN' with the authtoken you copied from the ngrok dashboard\n",
        "authtoken = userdata.get(\"ngrok_key\")\n",
        "ngrok.set_auth_token(authtoken)\n",
        "\n",
        "app = Flask(__name__)\n",
        "CORS(app)  # Apply CORS to the Flask app\n",
        "\n",
        "@app.route('/v1/chat', methods=['POST'])\n",
        "def chat_v1():\n",
        "    # Extract parameters from the request\n",
        "    user_message = request.json.get('message', {})\n",
        "    context = request.json.get('context', [])\n",
        "    stream = True  # Default to False if not provided\n",
        "\n",
        "    print(f'Message: {user_message}')\n",
        "    print(f'Context: {context}')\n",
        "\n",
        "    query = reflection(context)\n",
        "    print(f'REFINED: {query}')\n",
        "    route = semanticRoute.guide(query)[0][1]\n",
        "\n",
        "    if route == 'flower':\n",
        "      print('Guide to FLOWER')\n",
        "      # refine_query = reflection(chatHistory)\n",
        "      context = retriever(query)\n",
        "      source_information = \"\"\n",
        "      for doc in context:\n",
        "        content = doc.page_content + ' - Link ảnh: #' + str(doc.metadata['image_urls'])\n",
        "        source_information+= content + \"\\n\"\n",
        "      if stream:\n",
        "        def generate():\n",
        "          for chunk in answerChain.stream({\"query\": query, \"source_information\": source_information}):\n",
        "            yield chunk.content\n",
        "        return app.response_class(generate(), mimetype='text/plain')\n",
        "      else:\n",
        "        reponse = answerChain.invoke({\"query\": query, \"source_information\": source_information})\n",
        "        return jsonify({'response': reponse.content})\n",
        "    else:\n",
        "      print('Guide to CHAT')\n",
        "      if stream:\n",
        "        def generate():\n",
        "          for chunk in answerModel.stream(query):\n",
        "            yield chunk.content\n",
        "        return app.response_class(generate(), mimetype='text/plain')\n",
        "      else:\n",
        "        reponse = answerModel.invoke(query)\n",
        "        return jsonify({'response': reponse.content})\n",
        "\n",
        "@app.route('/v2/chat', methods=['POST'])\n",
        "def chat_v2():\n",
        "    # Extract parameters from the request\n",
        "    user_message = request.json.get('message', {})\n",
        "    context = request.json.get('context', [])\n",
        "    stream = True  # Default to False if not provided\n",
        "\n",
        "    print(f'Message: {user_message}')\n",
        "    print(f'Context: {context}')\n",
        "\n",
        "    history_string = \"\\n\".join(\n",
        "      [\n",
        "          f\"{message['role']} : {message['content']}\"\n",
        "          for message in context\n",
        "      ]\n",
        "    )\n",
        "    agent_response = agentChain.invoke({\"chat_history\":history_string})\n",
        "    if 'tool_calls' in agent_response.additional_kwargs:\n",
        "      print('Guide to FLOWER')\n",
        "      refine_query = agent_response.tool_calls[0]['args']['query']\n",
        "      print(f'REFINED: {refine_query}')\n",
        "      context = retriever(refine_query)\n",
        "      source_information = \"\"\n",
        "      for doc in context:\n",
        "        content = doc.page_content + ' - Link ảnh: #' + str(doc.metadata['image_urls'])\n",
        "        source_information+= content + \"\\n\"\n",
        "\n",
        "      if stream:\n",
        "        def generate():\n",
        "          for chunk in answerChain.stream({\"query\": refine_query, \"source_information\": source_information}):\n",
        "            yield chunk.content\n",
        "        return app.response_class(generate(), mimetype='text/plain')\n",
        "      else:\n",
        "        reponse = answerChain.invoke({\"query\": refine_query, \"source_information\": source_information})\n",
        "        return jsonify({'response': reponse.content})\n",
        "    else:\n",
        "      print('Guide to CHAT')\n",
        "      if stream:\n",
        "        def generate():\n",
        "          for chunk in agent_response.content.split(\" \"):\n",
        "            yield chunk + \" \"\n",
        "        return app.response_class(generate(), mimetype='text/plain')\n",
        "      else:\n",
        "        return jsonify({'response': agent_response.content})\n",
        "\n",
        "if __name__ == '__main__':\n",
        "    # Start ngrok to tunnel the Flask app\n",
        "    url = ngrok.connect(5000)\n",
        "    print(f\" * ngrok tunnel: {url}\")\n",
        "\n",
        "    # Start Flask app\n",
        "    app.run(port=5000)"
      ]
    }
  ],
  "metadata": {
    "accelerator": "GPU",
    "colab": {
      "gpuType": "T4",
      "include_colab_link": true,
      "provenance": [],
      "toc_visible": true
    },
    "kernelspec": {
      "display_name": "myenv",
      "language": "python",
      "name": "python3"
    },
    "language_info": {
      "codemirror_mode": {
        "name": "ipython",
        "version": 3
      },
      "file_extension": ".py",
      "mimetype": "text/x-python",
      "name": "python",
      "nbconvert_exporter": "python",
      "pygments_lexer": "ipython3",
      "version": "3.12.8"
    },
    "widgets": {
      "application/vnd.jupyter.widget-state+json": {
        "078767a38e0f4997948e5b901d5ce0eb": {
          "model_module": "@jupyter-widgets/base",
          "model_module_version": "1.2.0",
          "model_name": "LayoutModel",
          "state": {
            "_model_module": "@jupyter-widgets/base",
            "_model_module_version": "1.2.0",
            "_model_name": "LayoutModel",
            "_view_count": null,
            "_view_module": "@jupyter-widgets/base",
            "_view_module_version": "1.2.0",
            "_view_name": "LayoutView",
            "align_content": null,
            "align_items": null,
            "align_self": null,
            "border": null,
            "bottom": null,
            "display": null,
            "flex": null,
            "flex_flow": null,
            "grid_area": null,
            "grid_auto_columns": null,
            "grid_auto_flow": null,
            "grid_auto_rows": null,
            "grid_column": null,
            "grid_gap": null,
            "grid_row": null,
            "grid_template_areas": null,
            "grid_template_columns": null,
            "grid_template_rows": null,
            "height": null,
            "justify_content": null,
            "justify_items": null,
            "left": null,
            "margin": null,
            "max_height": null,
            "max_width": null,
            "min_height": null,
            "min_width": null,
            "object_fit": null,
            "object_position": null,
            "order": null,
            "overflow": null,
            "overflow_x": null,
            "overflow_y": null,
            "padding": null,
            "right": null,
            "top": null,
            "visibility": null,
            "width": null
          }
        },
        "0c01bde034bf4576a760fc9befdd17fe": {
          "model_module": "@jupyter-widgets/controls",
          "model_module_version": "1.5.0",
          "model_name": "FloatProgressModel",
          "state": {
            "_dom_classes": [],
            "_model_module": "@jupyter-widgets/controls",
            "_model_module_version": "1.5.0",
            "_model_name": "FloatProgressModel",
            "_view_count": null,
            "_view_module": "@jupyter-widgets/controls",
            "_view_module_version": "1.5.0",
            "_view_name": "ProgressView",
            "bar_style": "success",
            "description": "",
            "description_tooltip": null,
            "layout": "IPY_MODEL_bc764503d88848718ce3daa3b8bfa603",
            "max": 5069051,
            "min": 0,
            "orientation": "horizontal",
            "style": "IPY_MODEL_c56a3e68f7d04f5a8370d605faa2b679",
            "value": 5069051
          }
        },
        "161903d9c2fe456e92ceb7f6406261b1": {
          "model_module": "@jupyter-widgets/base",
          "model_module_version": "1.2.0",
          "model_name": "LayoutModel",
          "state": {
            "_model_module": "@jupyter-widgets/base",
            "_model_module_version": "1.2.0",
            "_model_name": "LayoutModel",
            "_view_count": null,
            "_view_module": "@jupyter-widgets/base",
            "_view_module_version": "1.2.0",
            "_view_name": "LayoutView",
            "align_content": null,
            "align_items": null,
            "align_self": null,
            "border": null,
            "bottom": null,
            "display": null,
            "flex": null,
            "flex_flow": null,
            "grid_area": null,
            "grid_auto_columns": null,
            "grid_auto_flow": null,
            "grid_auto_rows": null,
            "grid_column": null,
            "grid_gap": null,
            "grid_row": null,
            "grid_template_areas": null,
            "grid_template_columns": null,
            "grid_template_rows": null,
            "height": null,
            "justify_content": null,
            "justify_items": null,
            "left": null,
            "margin": null,
            "max_height": null,
            "max_width": null,
            "min_height": null,
            "min_width": null,
            "object_fit": null,
            "object_position": null,
            "order": null,
            "overflow": null,
            "overflow_x": null,
            "overflow_y": null,
            "padding": null,
            "right": null,
            "top": null,
            "visibility": null,
            "width": null
          }
        },
        "16cc00deb8c14e9380c06f05cbd9c75e": {
          "model_module": "@jupyter-widgets/controls",
          "model_module_version": "1.5.0",
          "model_name": "DescriptionStyleModel",
          "state": {
            "_model_module": "@jupyter-widgets/controls",
            "_model_module_version": "1.5.0",
            "_model_name": "DescriptionStyleModel",
            "_view_count": null,
            "_view_module": "@jupyter-widgets/base",
            "_view_module_version": "1.2.0",
            "_view_name": "StyleView",
            "description_width": ""
          }
        },
        "17a8845f069940cbabee085bb2ff8c05": {
          "model_module": "@jupyter-widgets/controls",
          "model_module_version": "1.5.0",
          "model_name": "DescriptionStyleModel",
          "state": {
            "_model_module": "@jupyter-widgets/controls",
            "_model_module_version": "1.5.0",
            "_model_name": "DescriptionStyleModel",
            "_view_count": null,
            "_view_module": "@jupyter-widgets/base",
            "_view_module_version": "1.2.0",
            "_view_name": "StyleView",
            "description_width": ""
          }
        },
        "18ac8ab2823a440bb04bfe27f2d4407e": {
          "model_module": "@jupyter-widgets/controls",
          "model_module_version": "1.5.0",
          "model_name": "ProgressStyleModel",
          "state": {
            "_model_module": "@jupyter-widgets/controls",
            "_model_module_version": "1.5.0",
            "_model_name": "ProgressStyleModel",
            "_view_count": null,
            "_view_module": "@jupyter-widgets/base",
            "_view_module_version": "1.2.0",
            "_view_name": "StyleView",
            "bar_color": null,
            "description_width": ""
          }
        },
        "1b010ac9626243e5a72c01104e7cf029": {
          "model_module": "@jupyter-widgets/base",
          "model_module_version": "1.2.0",
          "model_name": "LayoutModel",
          "state": {
            "_model_module": "@jupyter-widgets/base",
            "_model_module_version": "1.2.0",
            "_model_name": "LayoutModel",
            "_view_count": null,
            "_view_module": "@jupyter-widgets/base",
            "_view_module_version": "1.2.0",
            "_view_name": "LayoutView",
            "align_content": null,
            "align_items": null,
            "align_self": null,
            "border": null,
            "bottom": null,
            "display": null,
            "flex": null,
            "flex_flow": null,
            "grid_area": null,
            "grid_auto_columns": null,
            "grid_auto_flow": null,
            "grid_auto_rows": null,
            "grid_column": null,
            "grid_gap": null,
            "grid_row": null,
            "grid_template_areas": null,
            "grid_template_columns": null,
            "grid_template_rows": null,
            "height": null,
            "justify_content": null,
            "justify_items": null,
            "left": null,
            "margin": null,
            "max_height": null,
            "max_width": null,
            "min_height": null,
            "min_width": null,
            "object_fit": null,
            "object_position": null,
            "order": null,
            "overflow": null,
            "overflow_x": null,
            "overflow_y": null,
            "padding": null,
            "right": null,
            "top": null,
            "visibility": null,
            "width": null
          }
        },
        "1bd6b773f1494d358ab7ceb74b826334": {
          "model_module": "@jupyter-widgets/controls",
          "model_module_version": "1.5.0",
          "model_name": "DescriptionStyleModel",
          "state": {
            "_model_module": "@jupyter-widgets/controls",
            "_model_module_version": "1.5.0",
            "_model_name": "DescriptionStyleModel",
            "_view_count": null,
            "_view_module": "@jupyter-widgets/base",
            "_view_module_version": "1.2.0",
            "_view_name": "StyleView",
            "description_width": ""
          }
        },
        "1c955bf1bf774e22a27c0e5a525c68b2": {
          "model_module": "@jupyter-widgets/base",
          "model_module_version": "1.2.0",
          "model_name": "LayoutModel",
          "state": {
            "_model_module": "@jupyter-widgets/base",
            "_model_module_version": "1.2.0",
            "_model_name": "LayoutModel",
            "_view_count": null,
            "_view_module": "@jupyter-widgets/base",
            "_view_module_version": "1.2.0",
            "_view_name": "LayoutView",
            "align_content": null,
            "align_items": null,
            "align_self": null,
            "border": null,
            "bottom": null,
            "display": null,
            "flex": null,
            "flex_flow": null,
            "grid_area": null,
            "grid_auto_columns": null,
            "grid_auto_flow": null,
            "grid_auto_rows": null,
            "grid_column": null,
            "grid_gap": null,
            "grid_row": null,
            "grid_template_areas": null,
            "grid_template_columns": null,
            "grid_template_rows": null,
            "height": null,
            "justify_content": null,
            "justify_items": null,
            "left": null,
            "margin": null,
            "max_height": null,
            "max_width": null,
            "min_height": null,
            "min_width": null,
            "object_fit": null,
            "object_position": null,
            "order": null,
            "overflow": null,
            "overflow_x": null,
            "overflow_y": null,
            "padding": null,
            "right": null,
            "top": null,
            "visibility": null,
            "width": null
          }
        },
        "2875913c20c849fbba985b83a4075f08": {
          "model_module": "@jupyter-widgets/controls",
          "model_module_version": "1.5.0",
          "model_name": "FloatProgressModel",
          "state": {
            "_dom_classes": [],
            "_model_module": "@jupyter-widgets/controls",
            "_model_module_version": "1.5.0",
            "_model_name": "FloatProgressModel",
            "_view_count": null,
            "_view_module": "@jupyter-widgets/controls",
            "_view_module_version": "1.5.0",
            "_view_name": "ProgressView",
            "bar_style": "success",
            "description": "",
            "description_tooltip": null,
            "layout": "IPY_MODEL_cb4030643524494f8c8f2457ea881ff0",
            "max": 2271071852,
            "min": 0,
            "orientation": "horizontal",
            "style": "IPY_MODEL_524290cbd96744a9aaffd5c702992927",
            "value": 2271071852
          }
        },
        "30c0971bdd694b0b8ef961d0599d23b2": {
          "model_module": "@jupyter-widgets/controls",
          "model_module_version": "1.5.0",
          "model_name": "HTMLModel",
          "state": {
            "_dom_classes": [],
            "_model_module": "@jupyter-widgets/controls",
            "_model_module_version": "1.5.0",
            "_model_name": "HTMLModel",
            "_view_count": null,
            "_view_module": "@jupyter-widgets/controls",
            "_view_module_version": "1.5.0",
            "_view_name": "HTMLView",
            "description": "",
            "description_tooltip": null,
            "layout": "IPY_MODEL_c9700dd34e8042918f0914072a337862",
            "placeholder": "​",
            "style": "IPY_MODEL_4391a9a3e9674d209182549011fe2aa5",
            "value": " 795/795 [00:00&lt;00:00, 51.7kB/s]"
          }
        },
        "331e46c300444d1e81e07e35a3df4fd0": {
          "model_module": "@jupyter-widgets/controls",
          "model_module_version": "1.5.0",
          "model_name": "HTMLModel",
          "state": {
            "_dom_classes": [],
            "_model_module": "@jupyter-widgets/controls",
            "_model_module_version": "1.5.0",
            "_model_name": "HTMLModel",
            "_view_count": null,
            "_view_module": "@jupyter-widgets/controls",
            "_view_module_version": "1.5.0",
            "_view_name": "HTMLView",
            "description": "",
            "description_tooltip": null,
            "layout": "IPY_MODEL_6e209ed6890447a384386a5cfea63382",
            "placeholder": "​",
            "style": "IPY_MODEL_5e71301c03d04bc59f611d97035bda85",
            "value": "config.json: 100%"
          }
        },
        "346e26a550dc480abe82c0fec0e3a7e0": {
          "model_module": "@jupyter-widgets/controls",
          "model_module_version": "1.5.0",
          "model_name": "HTMLModel",
          "state": {
            "_dom_classes": [],
            "_model_module": "@jupyter-widgets/controls",
            "_model_module_version": "1.5.0",
            "_model_name": "HTMLModel",
            "_view_count": null,
            "_view_module": "@jupyter-widgets/controls",
            "_view_module_version": "1.5.0",
            "_view_name": "HTMLView",
            "description": "",
            "description_tooltip": null,
            "layout": "IPY_MODEL_bc80c06e1df041849bac091be2a599d2",
            "placeholder": "​",
            "style": "IPY_MODEL_3e8c4026751a4474a21feaabac928801",
            "value": " 2.27G/2.27G [00:53&lt;00:00, 42.5MB/s]"
          }
        },
        "35c0cea36af8495897aa1c01223ed778": {
          "model_module": "@jupyter-widgets/controls",
          "model_module_version": "1.5.0",
          "model_name": "HBoxModel",
          "state": {
            "_dom_classes": [],
            "_model_module": "@jupyter-widgets/controls",
            "_model_module_version": "1.5.0",
            "_model_name": "HBoxModel",
            "_view_count": null,
            "_view_module": "@jupyter-widgets/controls",
            "_view_module_version": "1.5.0",
            "_view_name": "HBoxView",
            "box_style": "",
            "children": [
              "IPY_MODEL_a8ae977ac6264f79aed68aaaeafba0b8",
              "IPY_MODEL_668ffa11dd97446583791d4cd38547c3",
              "IPY_MODEL_8ff21dff341f4e0fa301cfc5217a2943"
            ],
            "layout": "IPY_MODEL_81e5035594da428c8a04cbdf81f79441"
          }
        },
        "36a5b46b0ab04958b90b69fc91a574ed": {
          "model_module": "@jupyter-widgets/controls",
          "model_module_version": "1.5.0",
          "model_name": "FloatProgressModel",
          "state": {
            "_dom_classes": [],
            "_model_module": "@jupyter-widgets/controls",
            "_model_module_version": "1.5.0",
            "_model_name": "FloatProgressModel",
            "_view_count": null,
            "_view_module": "@jupyter-widgets/controls",
            "_view_module_version": "1.5.0",
            "_view_name": "ProgressView",
            "bar_style": "success",
            "description": "",
            "description_tooltip": null,
            "layout": "IPY_MODEL_a3961d1c9bad4261a0e73feddeea7ca6",
            "max": 17098273,
            "min": 0,
            "orientation": "horizontal",
            "style": "IPY_MODEL_9d1bc08e9ab44d01aa1419ffc79598f4",
            "value": 17098273
          }
        },
        "3bc7d960dbfe4e869351b4d82266ee85": {
          "model_module": "@jupyter-widgets/controls",
          "model_module_version": "1.5.0",
          "model_name": "DescriptionStyleModel",
          "state": {
            "_model_module": "@jupyter-widgets/controls",
            "_model_module_version": "1.5.0",
            "_model_name": "DescriptionStyleModel",
            "_view_count": null,
            "_view_module": "@jupyter-widgets/base",
            "_view_module_version": "1.2.0",
            "_view_name": "StyleView",
            "description_width": ""
          }
        },
        "3e8c4026751a4474a21feaabac928801": {
          "model_module": "@jupyter-widgets/controls",
          "model_module_version": "1.5.0",
          "model_name": "DescriptionStyleModel",
          "state": {
            "_model_module": "@jupyter-widgets/controls",
            "_model_module_version": "1.5.0",
            "_model_name": "DescriptionStyleModel",
            "_view_count": null,
            "_view_module": "@jupyter-widgets/base",
            "_view_module_version": "1.2.0",
            "_view_name": "StyleView",
            "description_width": ""
          }
        },
        "4391a9a3e9674d209182549011fe2aa5": {
          "model_module": "@jupyter-widgets/controls",
          "model_module_version": "1.5.0",
          "model_name": "DescriptionStyleModel",
          "state": {
            "_model_module": "@jupyter-widgets/controls",
            "_model_module_version": "1.5.0",
            "_model_name": "DescriptionStyleModel",
            "_view_count": null,
            "_view_module": "@jupyter-widgets/base",
            "_view_module_version": "1.2.0",
            "_view_name": "StyleView",
            "description_width": ""
          }
        },
        "448f4aa82c36487c8c5099ebec6870e6": {
          "model_module": "@jupyter-widgets/controls",
          "model_module_version": "1.5.0",
          "model_name": "DescriptionStyleModel",
          "state": {
            "_model_module": "@jupyter-widgets/controls",
            "_model_module_version": "1.5.0",
            "_model_name": "DescriptionStyleModel",
            "_view_count": null,
            "_view_module": "@jupyter-widgets/base",
            "_view_module_version": "1.2.0",
            "_view_name": "StyleView",
            "description_width": ""
          }
        },
        "46b2ff40ee2840b28dab9ebcf5a14e29": {
          "model_module": "@jupyter-widgets/base",
          "model_module_version": "1.2.0",
          "model_name": "LayoutModel",
          "state": {
            "_model_module": "@jupyter-widgets/base",
            "_model_module_version": "1.2.0",
            "_model_name": "LayoutModel",
            "_view_count": null,
            "_view_module": "@jupyter-widgets/base",
            "_view_module_version": "1.2.0",
            "_view_name": "LayoutView",
            "align_content": null,
            "align_items": null,
            "align_self": null,
            "border": null,
            "bottom": null,
            "display": null,
            "flex": null,
            "flex_flow": null,
            "grid_area": null,
            "grid_auto_columns": null,
            "grid_auto_flow": null,
            "grid_auto_rows": null,
            "grid_column": null,
            "grid_gap": null,
            "grid_row": null,
            "grid_template_areas": null,
            "grid_template_columns": null,
            "grid_template_rows": null,
            "height": null,
            "justify_content": null,
            "justify_items": null,
            "left": null,
            "margin": null,
            "max_height": null,
            "max_width": null,
            "min_height": null,
            "min_width": null,
            "object_fit": null,
            "object_position": null,
            "order": null,
            "overflow": null,
            "overflow_x": null,
            "overflow_y": null,
            "padding": null,
            "right": null,
            "top": null,
            "visibility": null,
            "width": null
          }
        },
        "49dec0b3a7544028837447b289305f3e": {
          "model_module": "@jupyter-widgets/controls",
          "model_module_version": "1.5.0",
          "model_name": "HTMLModel",
          "state": {
            "_dom_classes": [],
            "_model_module": "@jupyter-widgets/controls",
            "_model_module_version": "1.5.0",
            "_model_name": "HTMLModel",
            "_view_count": null,
            "_view_module": "@jupyter-widgets/controls",
            "_view_module_version": "1.5.0",
            "_view_name": "HTMLView",
            "description": "",
            "description_tooltip": null,
            "layout": "IPY_MODEL_8b9879fc6b704128872450a6474411f0",
            "placeholder": "​",
            "style": "IPY_MODEL_448f4aa82c36487c8c5099ebec6870e6",
            "value": "tokenizer_config.json: 100%"
          }
        },
        "524098eb42c04945a4512a49871619ba": {
          "model_module": "@jupyter-widgets/base",
          "model_module_version": "1.2.0",
          "model_name": "LayoutModel",
          "state": {
            "_model_module": "@jupyter-widgets/base",
            "_model_module_version": "1.2.0",
            "_model_name": "LayoutModel",
            "_view_count": null,
            "_view_module": "@jupyter-widgets/base",
            "_view_module_version": "1.2.0",
            "_view_name": "LayoutView",
            "align_content": null,
            "align_items": null,
            "align_self": null,
            "border": null,
            "bottom": null,
            "display": null,
            "flex": null,
            "flex_flow": null,
            "grid_area": null,
            "grid_auto_columns": null,
            "grid_auto_flow": null,
            "grid_auto_rows": null,
            "grid_column": null,
            "grid_gap": null,
            "grid_row": null,
            "grid_template_areas": null,
            "grid_template_columns": null,
            "grid_template_rows": null,
            "height": null,
            "justify_content": null,
            "justify_items": null,
            "left": null,
            "margin": null,
            "max_height": null,
            "max_width": null,
            "min_height": null,
            "min_width": null,
            "object_fit": null,
            "object_position": null,
            "order": null,
            "overflow": null,
            "overflow_x": null,
            "overflow_y": null,
            "padding": null,
            "right": null,
            "top": null,
            "visibility": null,
            "width": null
          }
        },
        "524290cbd96744a9aaffd5c702992927": {
          "model_module": "@jupyter-widgets/controls",
          "model_module_version": "1.5.0",
          "model_name": "ProgressStyleModel",
          "state": {
            "_model_module": "@jupyter-widgets/controls",
            "_model_module_version": "1.5.0",
            "_model_name": "ProgressStyleModel",
            "_view_count": null,
            "_view_module": "@jupyter-widgets/base",
            "_view_module_version": "1.2.0",
            "_view_name": "StyleView",
            "bar_color": null,
            "description_width": ""
          }
        },
        "539292d0941b43fb8bccbe227dfd975b": {
          "model_module": "@jupyter-widgets/controls",
          "model_module_version": "1.5.0",
          "model_name": "HBoxModel",
          "state": {
            "_dom_classes": [],
            "_model_module": "@jupyter-widgets/controls",
            "_model_module_version": "1.5.0",
            "_model_name": "HBoxModel",
            "_view_count": null,
            "_view_module": "@jupyter-widgets/controls",
            "_view_module_version": "1.5.0",
            "_view_name": "HBoxView",
            "box_style": "",
            "children": [
              "IPY_MODEL_c9282748f479470f93c50b02bfbe6190",
              "IPY_MODEL_36a5b46b0ab04958b90b69fc91a574ed",
              "IPY_MODEL_9d5099bc6aa04895b39d41350524a446"
            ],
            "layout": "IPY_MODEL_c15195caa4104d8993d872d2f1be13ac"
          }
        },
        "57940f4bfd814b2ead1196a541ca7f2b": {
          "model_module": "@jupyter-widgets/controls",
          "model_module_version": "1.5.0",
          "model_name": "DescriptionStyleModel",
          "state": {
            "_model_module": "@jupyter-widgets/controls",
            "_model_module_version": "1.5.0",
            "_model_name": "DescriptionStyleModel",
            "_view_count": null,
            "_view_module": "@jupyter-widgets/base",
            "_view_module_version": "1.2.0",
            "_view_name": "StyleView",
            "description_width": ""
          }
        },
        "5b6db4664dd34a1c85d2a9d37ecdddd3": {
          "model_module": "@jupyter-widgets/base",
          "model_module_version": "1.2.0",
          "model_name": "LayoutModel",
          "state": {
            "_model_module": "@jupyter-widgets/base",
            "_model_module_version": "1.2.0",
            "_model_name": "LayoutModel",
            "_view_count": null,
            "_view_module": "@jupyter-widgets/base",
            "_view_module_version": "1.2.0",
            "_view_name": "LayoutView",
            "align_content": null,
            "align_items": null,
            "align_self": null,
            "border": null,
            "bottom": null,
            "display": null,
            "flex": null,
            "flex_flow": null,
            "grid_area": null,
            "grid_auto_columns": null,
            "grid_auto_flow": null,
            "grid_auto_rows": null,
            "grid_column": null,
            "grid_gap": null,
            "grid_row": null,
            "grid_template_areas": null,
            "grid_template_columns": null,
            "grid_template_rows": null,
            "height": null,
            "justify_content": null,
            "justify_items": null,
            "left": null,
            "margin": null,
            "max_height": null,
            "max_width": null,
            "min_height": null,
            "min_width": null,
            "object_fit": null,
            "object_position": null,
            "order": null,
            "overflow": null,
            "overflow_x": null,
            "overflow_y": null,
            "padding": null,
            "right": null,
            "top": null,
            "visibility": null,
            "width": null
          }
        },
        "5e123c5e17d04764a7b603f4dd2293c9": {
          "model_module": "@jupyter-widgets/controls",
          "model_module_version": "1.5.0",
          "model_name": "DescriptionStyleModel",
          "state": {
            "_model_module": "@jupyter-widgets/controls",
            "_model_module_version": "1.5.0",
            "_model_name": "DescriptionStyleModel",
            "_view_count": null,
            "_view_module": "@jupyter-widgets/base",
            "_view_module_version": "1.2.0",
            "_view_name": "StyleView",
            "description_width": ""
          }
        },
        "5e71301c03d04bc59f611d97035bda85": {
          "model_module": "@jupyter-widgets/controls",
          "model_module_version": "1.5.0",
          "model_name": "DescriptionStyleModel",
          "state": {
            "_model_module": "@jupyter-widgets/controls",
            "_model_module_version": "1.5.0",
            "_model_name": "DescriptionStyleModel",
            "_view_count": null,
            "_view_module": "@jupyter-widgets/base",
            "_view_module_version": "1.2.0",
            "_view_name": "StyleView",
            "description_width": ""
          }
        },
        "5fdb41f47b1a4f229b9cf7e2e96e86fb": {
          "model_module": "@jupyter-widgets/controls",
          "model_module_version": "1.5.0",
          "model_name": "FloatProgressModel",
          "state": {
            "_dom_classes": [],
            "_model_module": "@jupyter-widgets/controls",
            "_model_module_version": "1.5.0",
            "_model_name": "FloatProgressModel",
            "_view_count": null,
            "_view_module": "@jupyter-widgets/controls",
            "_view_module_version": "1.5.0",
            "_view_name": "ProgressView",
            "bar_style": "success",
            "description": "",
            "description_tooltip": null,
            "layout": "IPY_MODEL_078767a38e0f4997948e5b901d5ce0eb",
            "max": 1173,
            "min": 0,
            "orientation": "horizontal",
            "style": "IPY_MODEL_6b46f8bc6c1b4181b5c2ef7298262fc8",
            "value": 1173
          }
        },
        "668ffa11dd97446583791d4cd38547c3": {
          "model_module": "@jupyter-widgets/controls",
          "model_module_version": "1.5.0",
          "model_name": "FloatProgressModel",
          "state": {
            "_dom_classes": [],
            "_model_module": "@jupyter-widgets/controls",
            "_model_module_version": "1.5.0",
            "_model_name": "FloatProgressModel",
            "_view_count": null,
            "_view_module": "@jupyter-widgets/controls",
            "_view_module_version": "1.5.0",
            "_view_name": "ProgressView",
            "bar_style": "success",
            "description": "",
            "description_tooltip": null,
            "layout": "IPY_MODEL_b3e6be027bc04d55af60b2b95fd417d9",
            "max": 964,
            "min": 0,
            "orientation": "horizontal",
            "style": "IPY_MODEL_18ac8ab2823a440bb04bfe27f2d4407e",
            "value": 964
          }
        },
        "69d54611a15745109961bae872cee7a4": {
          "model_module": "@jupyter-widgets/base",
          "model_module_version": "1.2.0",
          "model_name": "LayoutModel",
          "state": {
            "_model_module": "@jupyter-widgets/base",
            "_model_module_version": "1.2.0",
            "_model_name": "LayoutModel",
            "_view_count": null,
            "_view_module": "@jupyter-widgets/base",
            "_view_module_version": "1.2.0",
            "_view_name": "LayoutView",
            "align_content": null,
            "align_items": null,
            "align_self": null,
            "border": null,
            "bottom": null,
            "display": null,
            "flex": null,
            "flex_flow": null,
            "grid_area": null,
            "grid_auto_columns": null,
            "grid_auto_flow": null,
            "grid_auto_rows": null,
            "grid_column": null,
            "grid_gap": null,
            "grid_row": null,
            "grid_template_areas": null,
            "grid_template_columns": null,
            "grid_template_rows": null,
            "height": null,
            "justify_content": null,
            "justify_items": null,
            "left": null,
            "margin": null,
            "max_height": null,
            "max_width": null,
            "min_height": null,
            "min_width": null,
            "object_fit": null,
            "object_position": null,
            "order": null,
            "overflow": null,
            "overflow_x": null,
            "overflow_y": null,
            "padding": null,
            "right": null,
            "top": null,
            "visibility": null,
            "width": null
          }
        },
        "6b46f8bc6c1b4181b5c2ef7298262fc8": {
          "model_module": "@jupyter-widgets/controls",
          "model_module_version": "1.5.0",
          "model_name": "ProgressStyleModel",
          "state": {
            "_model_module": "@jupyter-widgets/controls",
            "_model_module_version": "1.5.0",
            "_model_name": "ProgressStyleModel",
            "_view_count": null,
            "_view_module": "@jupyter-widgets/base",
            "_view_module_version": "1.2.0",
            "_view_name": "StyleView",
            "bar_color": null,
            "description_width": ""
          }
        },
        "6e209ed6890447a384386a5cfea63382": {
          "model_module": "@jupyter-widgets/base",
          "model_module_version": "1.2.0",
          "model_name": "LayoutModel",
          "state": {
            "_model_module": "@jupyter-widgets/base",
            "_model_module_version": "1.2.0",
            "_model_name": "LayoutModel",
            "_view_count": null,
            "_view_module": "@jupyter-widgets/base",
            "_view_module_version": "1.2.0",
            "_view_name": "LayoutView",
            "align_content": null,
            "align_items": null,
            "align_self": null,
            "border": null,
            "bottom": null,
            "display": null,
            "flex": null,
            "flex_flow": null,
            "grid_area": null,
            "grid_auto_columns": null,
            "grid_auto_flow": null,
            "grid_auto_rows": null,
            "grid_column": null,
            "grid_gap": null,
            "grid_row": null,
            "grid_template_areas": null,
            "grid_template_columns": null,
            "grid_template_rows": null,
            "height": null,
            "justify_content": null,
            "justify_items": null,
            "left": null,
            "margin": null,
            "max_height": null,
            "max_width": null,
            "min_height": null,
            "min_width": null,
            "object_fit": null,
            "object_position": null,
            "order": null,
            "overflow": null,
            "overflow_x": null,
            "overflow_y": null,
            "padding": null,
            "right": null,
            "top": null,
            "visibility": null,
            "width": null
          }
        },
        "7227e039df064284a7ebdb53763e6396": {
          "model_module": "@jupyter-widgets/controls",
          "model_module_version": "1.5.0",
          "model_name": "HTMLModel",
          "state": {
            "_dom_classes": [],
            "_model_module": "@jupyter-widgets/controls",
            "_model_module_version": "1.5.0",
            "_model_name": "HTMLModel",
            "_view_count": null,
            "_view_module": "@jupyter-widgets/controls",
            "_view_module_version": "1.5.0",
            "_view_name": "HTMLView",
            "description": "",
            "description_tooltip": null,
            "layout": "IPY_MODEL_5b6db4664dd34a1c85d2a9d37ecdddd3",
            "placeholder": "​",
            "style": "IPY_MODEL_a5c7132a01d14443a8214a06051267b6",
            "value": "model.safetensors: 100%"
          }
        },
        "7921e70d29a941b6bb6c47f3af9bfcdb": {
          "model_module": "@jupyter-widgets/controls",
          "model_module_version": "1.5.0",
          "model_name": "FloatProgressModel",
          "state": {
            "_dom_classes": [],
            "_model_module": "@jupyter-widgets/controls",
            "_model_module_version": "1.5.0",
            "_model_name": "FloatProgressModel",
            "_view_count": null,
            "_view_module": "@jupyter-widgets/controls",
            "_view_module_version": "1.5.0",
            "_view_name": "ProgressView",
            "bar_style": "success",
            "description": "",
            "description_tooltip": null,
            "layout": "IPY_MODEL_46b2ff40ee2840b28dab9ebcf5a14e29",
            "max": 795,
            "min": 0,
            "orientation": "horizontal",
            "style": "IPY_MODEL_dfb8146753494b7386dd5eba6bdc8cc1",
            "value": 795
          }
        },
        "7a103c592fc4469498e7ec1e975b7337": {
          "model_module": "@jupyter-widgets/controls",
          "model_module_version": "1.5.0",
          "model_name": "HBoxModel",
          "state": {
            "_dom_classes": [],
            "_model_module": "@jupyter-widgets/controls",
            "_model_module_version": "1.5.0",
            "_model_name": "HBoxModel",
            "_view_count": null,
            "_view_module": "@jupyter-widgets/controls",
            "_view_module_version": "1.5.0",
            "_view_name": "HBoxView",
            "box_style": "",
            "children": [
              "IPY_MODEL_7227e039df064284a7ebdb53763e6396",
              "IPY_MODEL_2875913c20c849fbba985b83a4075f08",
              "IPY_MODEL_346e26a550dc480abe82c0fec0e3a7e0"
            ],
            "layout": "IPY_MODEL_a5198efa59fc4d35862803f486797c42"
          }
        },
        "7e3cad377d054c8b933f5d13ef9bec67": {
          "model_module": "@jupyter-widgets/controls",
          "model_module_version": "1.5.0",
          "model_name": "HBoxModel",
          "state": {
            "_dom_classes": [],
            "_model_module": "@jupyter-widgets/controls",
            "_model_module_version": "1.5.0",
            "_model_name": "HBoxModel",
            "_view_count": null,
            "_view_module": "@jupyter-widgets/controls",
            "_view_module_version": "1.5.0",
            "_view_name": "HBoxView",
            "box_style": "",
            "children": [
              "IPY_MODEL_d70c4e7ca51e4fb1ae1a665515aadc64",
              "IPY_MODEL_0c01bde034bf4576a760fc9befdd17fe",
              "IPY_MODEL_c8575d7549f54648be58e3055a17688f"
            ],
            "layout": "IPY_MODEL_524098eb42c04945a4512a49871619ba"
          }
        },
        "7fae2bebaa1c4664b21d82571573c5f1": {
          "model_module": "@jupyter-widgets/base",
          "model_module_version": "1.2.0",
          "model_name": "LayoutModel",
          "state": {
            "_model_module": "@jupyter-widgets/base",
            "_model_module_version": "1.2.0",
            "_model_name": "LayoutModel",
            "_view_count": null,
            "_view_module": "@jupyter-widgets/base",
            "_view_module_version": "1.2.0",
            "_view_name": "LayoutView",
            "align_content": null,
            "align_items": null,
            "align_self": null,
            "border": null,
            "bottom": null,
            "display": null,
            "flex": null,
            "flex_flow": null,
            "grid_area": null,
            "grid_auto_columns": null,
            "grid_auto_flow": null,
            "grid_auto_rows": null,
            "grid_column": null,
            "grid_gap": null,
            "grid_row": null,
            "grid_template_areas": null,
            "grid_template_columns": null,
            "grid_template_rows": null,
            "height": null,
            "justify_content": null,
            "justify_items": null,
            "left": null,
            "margin": null,
            "max_height": null,
            "max_width": null,
            "min_height": null,
            "min_width": null,
            "object_fit": null,
            "object_position": null,
            "order": null,
            "overflow": null,
            "overflow_x": null,
            "overflow_y": null,
            "padding": null,
            "right": null,
            "top": null,
            "visibility": null,
            "width": null
          }
        },
        "81e5035594da428c8a04cbdf81f79441": {
          "model_module": "@jupyter-widgets/base",
          "model_module_version": "1.2.0",
          "model_name": "LayoutModel",
          "state": {
            "_model_module": "@jupyter-widgets/base",
            "_model_module_version": "1.2.0",
            "_model_name": "LayoutModel",
            "_view_count": null,
            "_view_module": "@jupyter-widgets/base",
            "_view_module_version": "1.2.0",
            "_view_name": "LayoutView",
            "align_content": null,
            "align_items": null,
            "align_self": null,
            "border": null,
            "bottom": null,
            "display": null,
            "flex": null,
            "flex_flow": null,
            "grid_area": null,
            "grid_auto_columns": null,
            "grid_auto_flow": null,
            "grid_auto_rows": null,
            "grid_column": null,
            "grid_gap": null,
            "grid_row": null,
            "grid_template_areas": null,
            "grid_template_columns": null,
            "grid_template_rows": null,
            "height": null,
            "justify_content": null,
            "justify_items": null,
            "left": null,
            "margin": null,
            "max_height": null,
            "max_width": null,
            "min_height": null,
            "min_width": null,
            "object_fit": null,
            "object_position": null,
            "order": null,
            "overflow": null,
            "overflow_x": null,
            "overflow_y": null,
            "padding": null,
            "right": null,
            "top": null,
            "visibility": null,
            "width": null
          }
        },
        "84c7903cf9164dce83e0be802cbf143d": {
          "model_module": "@jupyter-widgets/controls",
          "model_module_version": "1.5.0",
          "model_name": "HBoxModel",
          "state": {
            "_dom_classes": [],
            "_model_module": "@jupyter-widgets/controls",
            "_model_module_version": "1.5.0",
            "_model_name": "HBoxModel",
            "_view_count": null,
            "_view_module": "@jupyter-widgets/controls",
            "_view_module_version": "1.5.0",
            "_view_name": "HBoxView",
            "box_style": "",
            "children": [
              "IPY_MODEL_49dec0b3a7544028837447b289305f3e",
              "IPY_MODEL_5fdb41f47b1a4f229b9cf7e2e96e86fb",
              "IPY_MODEL_ecaf6852216b47a6b4cf12c7728abf49"
            ],
            "layout": "IPY_MODEL_d3da0c212d1e424d8f6526c4e7b60889"
          }
        },
        "8b9879fc6b704128872450a6474411f0": {
          "model_module": "@jupyter-widgets/base",
          "model_module_version": "1.2.0",
          "model_name": "LayoutModel",
          "state": {
            "_model_module": "@jupyter-widgets/base",
            "_model_module_version": "1.2.0",
            "_model_name": "LayoutModel",
            "_view_count": null,
            "_view_module": "@jupyter-widgets/base",
            "_view_module_version": "1.2.0",
            "_view_name": "LayoutView",
            "align_content": null,
            "align_items": null,
            "align_self": null,
            "border": null,
            "bottom": null,
            "display": null,
            "flex": null,
            "flex_flow": null,
            "grid_area": null,
            "grid_auto_columns": null,
            "grid_auto_flow": null,
            "grid_auto_rows": null,
            "grid_column": null,
            "grid_gap": null,
            "grid_row": null,
            "grid_template_areas": null,
            "grid_template_columns": null,
            "grid_template_rows": null,
            "height": null,
            "justify_content": null,
            "justify_items": null,
            "left": null,
            "margin": null,
            "max_height": null,
            "max_width": null,
            "min_height": null,
            "min_width": null,
            "object_fit": null,
            "object_position": null,
            "order": null,
            "overflow": null,
            "overflow_x": null,
            "overflow_y": null,
            "padding": null,
            "right": null,
            "top": null,
            "visibility": null,
            "width": null
          }
        },
        "8ff21dff341f4e0fa301cfc5217a2943": {
          "model_module": "@jupyter-widgets/controls",
          "model_module_version": "1.5.0",
          "model_name": "HTMLModel",
          "state": {
            "_dom_classes": [],
            "_model_module": "@jupyter-widgets/controls",
            "_model_module_version": "1.5.0",
            "_model_name": "HTMLModel",
            "_view_count": null,
            "_view_module": "@jupyter-widgets/controls",
            "_view_module_version": "1.5.0",
            "_view_name": "HTMLView",
            "description": "",
            "description_tooltip": null,
            "layout": "IPY_MODEL_1b010ac9626243e5a72c01104e7cf029",
            "placeholder": "​",
            "style": "IPY_MODEL_16cc00deb8c14e9380c06f05cbd9c75e",
            "value": " 964/964 [00:00&lt;00:00, 30.2kB/s]"
          }
        },
        "9d1bc08e9ab44d01aa1419ffc79598f4": {
          "model_module": "@jupyter-widgets/controls",
          "model_module_version": "1.5.0",
          "model_name": "ProgressStyleModel",
          "state": {
            "_model_module": "@jupyter-widgets/controls",
            "_model_module_version": "1.5.0",
            "_model_name": "ProgressStyleModel",
            "_view_count": null,
            "_view_module": "@jupyter-widgets/base",
            "_view_module_version": "1.2.0",
            "_view_name": "StyleView",
            "bar_color": null,
            "description_width": ""
          }
        },
        "9d5099bc6aa04895b39d41350524a446": {
          "model_module": "@jupyter-widgets/controls",
          "model_module_version": "1.5.0",
          "model_name": "HTMLModel",
          "state": {
            "_dom_classes": [],
            "_model_module": "@jupyter-widgets/controls",
            "_model_module_version": "1.5.0",
            "_model_name": "HTMLModel",
            "_view_count": null,
            "_view_module": "@jupyter-widgets/controls",
            "_view_module_version": "1.5.0",
            "_view_name": "HTMLView",
            "description": "",
            "description_tooltip": null,
            "layout": "IPY_MODEL_c81f48fb5f474c79976a5e9c8634c2b8",
            "placeholder": "​",
            "style": "IPY_MODEL_5e123c5e17d04764a7b603f4dd2293c9",
            "value": " 17.1M/17.1M [00:00&lt;00:00, 43.1MB/s]"
          }
        },
        "9f7d8113ff264060bc75ee210856c91f": {
          "model_module": "@jupyter-widgets/base",
          "model_module_version": "1.2.0",
          "model_name": "LayoutModel",
          "state": {
            "_model_module": "@jupyter-widgets/base",
            "_model_module_version": "1.2.0",
            "_model_name": "LayoutModel",
            "_view_count": null,
            "_view_module": "@jupyter-widgets/base",
            "_view_module_version": "1.2.0",
            "_view_name": "LayoutView",
            "align_content": null,
            "align_items": null,
            "align_self": null,
            "border": null,
            "bottom": null,
            "display": null,
            "flex": null,
            "flex_flow": null,
            "grid_area": null,
            "grid_auto_columns": null,
            "grid_auto_flow": null,
            "grid_auto_rows": null,
            "grid_column": null,
            "grid_gap": null,
            "grid_row": null,
            "grid_template_areas": null,
            "grid_template_columns": null,
            "grid_template_rows": null,
            "height": null,
            "justify_content": null,
            "justify_items": null,
            "left": null,
            "margin": null,
            "max_height": null,
            "max_width": null,
            "min_height": null,
            "min_width": null,
            "object_fit": null,
            "object_position": null,
            "order": null,
            "overflow": null,
            "overflow_x": null,
            "overflow_y": null,
            "padding": null,
            "right": null,
            "top": null,
            "visibility": null,
            "width": null
          }
        },
        "a3961d1c9bad4261a0e73feddeea7ca6": {
          "model_module": "@jupyter-widgets/base",
          "model_module_version": "1.2.0",
          "model_name": "LayoutModel",
          "state": {
            "_model_module": "@jupyter-widgets/base",
            "_model_module_version": "1.2.0",
            "_model_name": "LayoutModel",
            "_view_count": null,
            "_view_module": "@jupyter-widgets/base",
            "_view_module_version": "1.2.0",
            "_view_name": "LayoutView",
            "align_content": null,
            "align_items": null,
            "align_self": null,
            "border": null,
            "bottom": null,
            "display": null,
            "flex": null,
            "flex_flow": null,
            "grid_area": null,
            "grid_auto_columns": null,
            "grid_auto_flow": null,
            "grid_auto_rows": null,
            "grid_column": null,
            "grid_gap": null,
            "grid_row": null,
            "grid_template_areas": null,
            "grid_template_columns": null,
            "grid_template_rows": null,
            "height": null,
            "justify_content": null,
            "justify_items": null,
            "left": null,
            "margin": null,
            "max_height": null,
            "max_width": null,
            "min_height": null,
            "min_width": null,
            "object_fit": null,
            "object_position": null,
            "order": null,
            "overflow": null,
            "overflow_x": null,
            "overflow_y": null,
            "padding": null,
            "right": null,
            "top": null,
            "visibility": null,
            "width": null
          }
        },
        "a5198efa59fc4d35862803f486797c42": {
          "model_module": "@jupyter-widgets/base",
          "model_module_version": "1.2.0",
          "model_name": "LayoutModel",
          "state": {
            "_model_module": "@jupyter-widgets/base",
            "_model_module_version": "1.2.0",
            "_model_name": "LayoutModel",
            "_view_count": null,
            "_view_module": "@jupyter-widgets/base",
            "_view_module_version": "1.2.0",
            "_view_name": "LayoutView",
            "align_content": null,
            "align_items": null,
            "align_self": null,
            "border": null,
            "bottom": null,
            "display": null,
            "flex": null,
            "flex_flow": null,
            "grid_area": null,
            "grid_auto_columns": null,
            "grid_auto_flow": null,
            "grid_auto_rows": null,
            "grid_column": null,
            "grid_gap": null,
            "grid_row": null,
            "grid_template_areas": null,
            "grid_template_columns": null,
            "grid_template_rows": null,
            "height": null,
            "justify_content": null,
            "justify_items": null,
            "left": null,
            "margin": null,
            "max_height": null,
            "max_width": null,
            "min_height": null,
            "min_width": null,
            "object_fit": null,
            "object_position": null,
            "order": null,
            "overflow": null,
            "overflow_x": null,
            "overflow_y": null,
            "padding": null,
            "right": null,
            "top": null,
            "visibility": null,
            "width": null
          }
        },
        "a5c7132a01d14443a8214a06051267b6": {
          "model_module": "@jupyter-widgets/controls",
          "model_module_version": "1.5.0",
          "model_name": "DescriptionStyleModel",
          "state": {
            "_model_module": "@jupyter-widgets/controls",
            "_model_module_version": "1.5.0",
            "_model_name": "DescriptionStyleModel",
            "_view_count": null,
            "_view_module": "@jupyter-widgets/base",
            "_view_module_version": "1.2.0",
            "_view_name": "StyleView",
            "description_width": ""
          }
        },
        "a8ae977ac6264f79aed68aaaeafba0b8": {
          "model_module": "@jupyter-widgets/controls",
          "model_module_version": "1.5.0",
          "model_name": "HTMLModel",
          "state": {
            "_dom_classes": [],
            "_model_module": "@jupyter-widgets/controls",
            "_model_module_version": "1.5.0",
            "_model_name": "HTMLModel",
            "_view_count": null,
            "_view_module": "@jupyter-widgets/controls",
            "_view_module_version": "1.5.0",
            "_view_name": "HTMLView",
            "description": "",
            "description_tooltip": null,
            "layout": "IPY_MODEL_f3767a3c9bd8497eb24cdaec6862aa39",
            "placeholder": "​",
            "style": "IPY_MODEL_57940f4bfd814b2ead1196a541ca7f2b",
            "value": "special_tokens_map.json: 100%"
          }
        },
        "b3e6be027bc04d55af60b2b95fd417d9": {
          "model_module": "@jupyter-widgets/base",
          "model_module_version": "1.2.0",
          "model_name": "LayoutModel",
          "state": {
            "_model_module": "@jupyter-widgets/base",
            "_model_module_version": "1.2.0",
            "_model_name": "LayoutModel",
            "_view_count": null,
            "_view_module": "@jupyter-widgets/base",
            "_view_module_version": "1.2.0",
            "_view_name": "LayoutView",
            "align_content": null,
            "align_items": null,
            "align_self": null,
            "border": null,
            "bottom": null,
            "display": null,
            "flex": null,
            "flex_flow": null,
            "grid_area": null,
            "grid_auto_columns": null,
            "grid_auto_flow": null,
            "grid_auto_rows": null,
            "grid_column": null,
            "grid_gap": null,
            "grid_row": null,
            "grid_template_areas": null,
            "grid_template_columns": null,
            "grid_template_rows": null,
            "height": null,
            "justify_content": null,
            "justify_items": null,
            "left": null,
            "margin": null,
            "max_height": null,
            "max_width": null,
            "min_height": null,
            "min_width": null,
            "object_fit": null,
            "object_position": null,
            "order": null,
            "overflow": null,
            "overflow_x": null,
            "overflow_y": null,
            "padding": null,
            "right": null,
            "top": null,
            "visibility": null,
            "width": null
          }
        },
        "bc764503d88848718ce3daa3b8bfa603": {
          "model_module": "@jupyter-widgets/base",
          "model_module_version": "1.2.0",
          "model_name": "LayoutModel",
          "state": {
            "_model_module": "@jupyter-widgets/base",
            "_model_module_version": "1.2.0",
            "_model_name": "LayoutModel",
            "_view_count": null,
            "_view_module": "@jupyter-widgets/base",
            "_view_module_version": "1.2.0",
            "_view_name": "LayoutView",
            "align_content": null,
            "align_items": null,
            "align_self": null,
            "border": null,
            "bottom": null,
            "display": null,
            "flex": null,
            "flex_flow": null,
            "grid_area": null,
            "grid_auto_columns": null,
            "grid_auto_flow": null,
            "grid_auto_rows": null,
            "grid_column": null,
            "grid_gap": null,
            "grid_row": null,
            "grid_template_areas": null,
            "grid_template_columns": null,
            "grid_template_rows": null,
            "height": null,
            "justify_content": null,
            "justify_items": null,
            "left": null,
            "margin": null,
            "max_height": null,
            "max_width": null,
            "min_height": null,
            "min_width": null,
            "object_fit": null,
            "object_position": null,
            "order": null,
            "overflow": null,
            "overflow_x": null,
            "overflow_y": null,
            "padding": null,
            "right": null,
            "top": null,
            "visibility": null,
            "width": null
          }
        },
        "bc80c06e1df041849bac091be2a599d2": {
          "model_module": "@jupyter-widgets/base",
          "model_module_version": "1.2.0",
          "model_name": "LayoutModel",
          "state": {
            "_model_module": "@jupyter-widgets/base",
            "_model_module_version": "1.2.0",
            "_model_name": "LayoutModel",
            "_view_count": null,
            "_view_module": "@jupyter-widgets/base",
            "_view_module_version": "1.2.0",
            "_view_name": "LayoutView",
            "align_content": null,
            "align_items": null,
            "align_self": null,
            "border": null,
            "bottom": null,
            "display": null,
            "flex": null,
            "flex_flow": null,
            "grid_area": null,
            "grid_auto_columns": null,
            "grid_auto_flow": null,
            "grid_auto_rows": null,
            "grid_column": null,
            "grid_gap": null,
            "grid_row": null,
            "grid_template_areas": null,
            "grid_template_columns": null,
            "grid_template_rows": null,
            "height": null,
            "justify_content": null,
            "justify_items": null,
            "left": null,
            "margin": null,
            "max_height": null,
            "max_width": null,
            "min_height": null,
            "min_width": null,
            "object_fit": null,
            "object_position": null,
            "order": null,
            "overflow": null,
            "overflow_x": null,
            "overflow_y": null,
            "padding": null,
            "right": null,
            "top": null,
            "visibility": null,
            "width": null
          }
        },
        "c15195caa4104d8993d872d2f1be13ac": {
          "model_module": "@jupyter-widgets/base",
          "model_module_version": "1.2.0",
          "model_name": "LayoutModel",
          "state": {
            "_model_module": "@jupyter-widgets/base",
            "_model_module_version": "1.2.0",
            "_model_name": "LayoutModel",
            "_view_count": null,
            "_view_module": "@jupyter-widgets/base",
            "_view_module_version": "1.2.0",
            "_view_name": "LayoutView",
            "align_content": null,
            "align_items": null,
            "align_self": null,
            "border": null,
            "bottom": null,
            "display": null,
            "flex": null,
            "flex_flow": null,
            "grid_area": null,
            "grid_auto_columns": null,
            "grid_auto_flow": null,
            "grid_auto_rows": null,
            "grid_column": null,
            "grid_gap": null,
            "grid_row": null,
            "grid_template_areas": null,
            "grid_template_columns": null,
            "grid_template_rows": null,
            "height": null,
            "justify_content": null,
            "justify_items": null,
            "left": null,
            "margin": null,
            "max_height": null,
            "max_width": null,
            "min_height": null,
            "min_width": null,
            "object_fit": null,
            "object_position": null,
            "order": null,
            "overflow": null,
            "overflow_x": null,
            "overflow_y": null,
            "padding": null,
            "right": null,
            "top": null,
            "visibility": null,
            "width": null
          }
        },
        "c56a3e68f7d04f5a8370d605faa2b679": {
          "model_module": "@jupyter-widgets/controls",
          "model_module_version": "1.5.0",
          "model_name": "ProgressStyleModel",
          "state": {
            "_model_module": "@jupyter-widgets/controls",
            "_model_module_version": "1.5.0",
            "_model_name": "ProgressStyleModel",
            "_view_count": null,
            "_view_module": "@jupyter-widgets/base",
            "_view_module_version": "1.2.0",
            "_view_name": "StyleView",
            "bar_color": null,
            "description_width": ""
          }
        },
        "c81f48fb5f474c79976a5e9c8634c2b8": {
          "model_module": "@jupyter-widgets/base",
          "model_module_version": "1.2.0",
          "model_name": "LayoutModel",
          "state": {
            "_model_module": "@jupyter-widgets/base",
            "_model_module_version": "1.2.0",
            "_model_name": "LayoutModel",
            "_view_count": null,
            "_view_module": "@jupyter-widgets/base",
            "_view_module_version": "1.2.0",
            "_view_name": "LayoutView",
            "align_content": null,
            "align_items": null,
            "align_self": null,
            "border": null,
            "bottom": null,
            "display": null,
            "flex": null,
            "flex_flow": null,
            "grid_area": null,
            "grid_auto_columns": null,
            "grid_auto_flow": null,
            "grid_auto_rows": null,
            "grid_column": null,
            "grid_gap": null,
            "grid_row": null,
            "grid_template_areas": null,
            "grid_template_columns": null,
            "grid_template_rows": null,
            "height": null,
            "justify_content": null,
            "justify_items": null,
            "left": null,
            "margin": null,
            "max_height": null,
            "max_width": null,
            "min_height": null,
            "min_width": null,
            "object_fit": null,
            "object_position": null,
            "order": null,
            "overflow": null,
            "overflow_x": null,
            "overflow_y": null,
            "padding": null,
            "right": null,
            "top": null,
            "visibility": null,
            "width": null
          }
        },
        "c8575d7549f54648be58e3055a17688f": {
          "model_module": "@jupyter-widgets/controls",
          "model_module_version": "1.5.0",
          "model_name": "HTMLModel",
          "state": {
            "_dom_classes": [],
            "_model_module": "@jupyter-widgets/controls",
            "_model_module_version": "1.5.0",
            "_model_name": "HTMLModel",
            "_view_count": null,
            "_view_module": "@jupyter-widgets/controls",
            "_view_module_version": "1.5.0",
            "_view_name": "HTMLView",
            "description": "",
            "description_tooltip": null,
            "layout": "IPY_MODEL_69d54611a15745109961bae872cee7a4",
            "placeholder": "​",
            "style": "IPY_MODEL_17a8845f069940cbabee085bb2ff8c05",
            "value": " 5.07M/5.07M [00:00&lt;00:00, 20.6MB/s]"
          }
        },
        "c9282748f479470f93c50b02bfbe6190": {
          "model_module": "@jupyter-widgets/controls",
          "model_module_version": "1.5.0",
          "model_name": "HTMLModel",
          "state": {
            "_dom_classes": [],
            "_model_module": "@jupyter-widgets/controls",
            "_model_module_version": "1.5.0",
            "_model_name": "HTMLModel",
            "_view_count": null,
            "_view_module": "@jupyter-widgets/controls",
            "_view_module_version": "1.5.0",
            "_view_name": "HTMLView",
            "description": "",
            "description_tooltip": null,
            "layout": "IPY_MODEL_9f7d8113ff264060bc75ee210856c91f",
            "placeholder": "​",
            "style": "IPY_MODEL_3bc7d960dbfe4e869351b4d82266ee85",
            "value": "tokenizer.json: 100%"
          }
        },
        "c9700dd34e8042918f0914072a337862": {
          "model_module": "@jupyter-widgets/base",
          "model_module_version": "1.2.0",
          "model_name": "LayoutModel",
          "state": {
            "_model_module": "@jupyter-widgets/base",
            "_model_module_version": "1.2.0",
            "_model_name": "LayoutModel",
            "_view_count": null,
            "_view_module": "@jupyter-widgets/base",
            "_view_module_version": "1.2.0",
            "_view_name": "LayoutView",
            "align_content": null,
            "align_items": null,
            "align_self": null,
            "border": null,
            "bottom": null,
            "display": null,
            "flex": null,
            "flex_flow": null,
            "grid_area": null,
            "grid_auto_columns": null,
            "grid_auto_flow": null,
            "grid_auto_rows": null,
            "grid_column": null,
            "grid_gap": null,
            "grid_row": null,
            "grid_template_areas": null,
            "grid_template_columns": null,
            "grid_template_rows": null,
            "height": null,
            "justify_content": null,
            "justify_items": null,
            "left": null,
            "margin": null,
            "max_height": null,
            "max_width": null,
            "min_height": null,
            "min_width": null,
            "object_fit": null,
            "object_position": null,
            "order": null,
            "overflow": null,
            "overflow_x": null,
            "overflow_y": null,
            "padding": null,
            "right": null,
            "top": null,
            "visibility": null,
            "width": null
          }
        },
        "cb4030643524494f8c8f2457ea881ff0": {
          "model_module": "@jupyter-widgets/base",
          "model_module_version": "1.2.0",
          "model_name": "LayoutModel",
          "state": {
            "_model_module": "@jupyter-widgets/base",
            "_model_module_version": "1.2.0",
            "_model_name": "LayoutModel",
            "_view_count": null,
            "_view_module": "@jupyter-widgets/base",
            "_view_module_version": "1.2.0",
            "_view_name": "LayoutView",
            "align_content": null,
            "align_items": null,
            "align_self": null,
            "border": null,
            "bottom": null,
            "display": null,
            "flex": null,
            "flex_flow": null,
            "grid_area": null,
            "grid_auto_columns": null,
            "grid_auto_flow": null,
            "grid_auto_rows": null,
            "grid_column": null,
            "grid_gap": null,
            "grid_row": null,
            "grid_template_areas": null,
            "grid_template_columns": null,
            "grid_template_rows": null,
            "height": null,
            "justify_content": null,
            "justify_items": null,
            "left": null,
            "margin": null,
            "max_height": null,
            "max_width": null,
            "min_height": null,
            "min_width": null,
            "object_fit": null,
            "object_position": null,
            "order": null,
            "overflow": null,
            "overflow_x": null,
            "overflow_y": null,
            "padding": null,
            "right": null,
            "top": null,
            "visibility": null,
            "width": null
          }
        },
        "cf16d296febb4f85974f0ec79dfe423c": {
          "model_module": "@jupyter-widgets/controls",
          "model_module_version": "1.5.0",
          "model_name": "HBoxModel",
          "state": {
            "_dom_classes": [],
            "_model_module": "@jupyter-widgets/controls",
            "_model_module_version": "1.5.0",
            "_model_name": "HBoxModel",
            "_view_count": null,
            "_view_module": "@jupyter-widgets/controls",
            "_view_module_version": "1.5.0",
            "_view_name": "HBoxView",
            "box_style": "",
            "children": [
              "IPY_MODEL_331e46c300444d1e81e07e35a3df4fd0",
              "IPY_MODEL_7921e70d29a941b6bb6c47f3af9bfcdb",
              "IPY_MODEL_30c0971bdd694b0b8ef961d0599d23b2"
            ],
            "layout": "IPY_MODEL_1c955bf1bf774e22a27c0e5a525c68b2"
          }
        },
        "d3da0c212d1e424d8f6526c4e7b60889": {
          "model_module": "@jupyter-widgets/base",
          "model_module_version": "1.2.0",
          "model_name": "LayoutModel",
          "state": {
            "_model_module": "@jupyter-widgets/base",
            "_model_module_version": "1.2.0",
            "_model_name": "LayoutModel",
            "_view_count": null,
            "_view_module": "@jupyter-widgets/base",
            "_view_module_version": "1.2.0",
            "_view_name": "LayoutView",
            "align_content": null,
            "align_items": null,
            "align_self": null,
            "border": null,
            "bottom": null,
            "display": null,
            "flex": null,
            "flex_flow": null,
            "grid_area": null,
            "grid_auto_columns": null,
            "grid_auto_flow": null,
            "grid_auto_rows": null,
            "grid_column": null,
            "grid_gap": null,
            "grid_row": null,
            "grid_template_areas": null,
            "grid_template_columns": null,
            "grid_template_rows": null,
            "height": null,
            "justify_content": null,
            "justify_items": null,
            "left": null,
            "margin": null,
            "max_height": null,
            "max_width": null,
            "min_height": null,
            "min_width": null,
            "object_fit": null,
            "object_position": null,
            "order": null,
            "overflow": null,
            "overflow_x": null,
            "overflow_y": null,
            "padding": null,
            "right": null,
            "top": null,
            "visibility": null,
            "width": null
          }
        },
        "d70c4e7ca51e4fb1ae1a665515aadc64": {
          "model_module": "@jupyter-widgets/controls",
          "model_module_version": "1.5.0",
          "model_name": "HTMLModel",
          "state": {
            "_dom_classes": [],
            "_model_module": "@jupyter-widgets/controls",
            "_model_module_version": "1.5.0",
            "_model_name": "HTMLModel",
            "_view_count": null,
            "_view_module": "@jupyter-widgets/controls",
            "_view_module_version": "1.5.0",
            "_view_name": "HTMLView",
            "description": "",
            "description_tooltip": null,
            "layout": "IPY_MODEL_161903d9c2fe456e92ceb7f6406261b1",
            "placeholder": "​",
            "style": "IPY_MODEL_1bd6b773f1494d358ab7ceb74b826334",
            "value": "sentencepiece.bpe.model: 100%"
          }
        },
        "dfb8146753494b7386dd5eba6bdc8cc1": {
          "model_module": "@jupyter-widgets/controls",
          "model_module_version": "1.5.0",
          "model_name": "ProgressStyleModel",
          "state": {
            "_model_module": "@jupyter-widgets/controls",
            "_model_module_version": "1.5.0",
            "_model_name": "ProgressStyleModel",
            "_view_count": null,
            "_view_module": "@jupyter-widgets/base",
            "_view_module_version": "1.2.0",
            "_view_name": "StyleView",
            "bar_color": null,
            "description_width": ""
          }
        },
        "ecaf6852216b47a6b4cf12c7728abf49": {
          "model_module": "@jupyter-widgets/controls",
          "model_module_version": "1.5.0",
          "model_name": "HTMLModel",
          "state": {
            "_dom_classes": [],
            "_model_module": "@jupyter-widgets/controls",
            "_model_module_version": "1.5.0",
            "_model_name": "HTMLModel",
            "_view_count": null,
            "_view_module": "@jupyter-widgets/controls",
            "_view_module_version": "1.5.0",
            "_view_name": "HTMLView",
            "description": "",
            "description_tooltip": null,
            "layout": "IPY_MODEL_7fae2bebaa1c4664b21d82571573c5f1",
            "placeholder": "​",
            "style": "IPY_MODEL_f57d648bba5c41118ceaf50a1cce42f7",
            "value": " 1.17k/1.17k [00:00&lt;00:00, 30.8kB/s]"
          }
        },
        "f3767a3c9bd8497eb24cdaec6862aa39": {
          "model_module": "@jupyter-widgets/base",
          "model_module_version": "1.2.0",
          "model_name": "LayoutModel",
          "state": {
            "_model_module": "@jupyter-widgets/base",
            "_model_module_version": "1.2.0",
            "_model_name": "LayoutModel",
            "_view_count": null,
            "_view_module": "@jupyter-widgets/base",
            "_view_module_version": "1.2.0",
            "_view_name": "LayoutView",
            "align_content": null,
            "align_items": null,
            "align_self": null,
            "border": null,
            "bottom": null,
            "display": null,
            "flex": null,
            "flex_flow": null,
            "grid_area": null,
            "grid_auto_columns": null,
            "grid_auto_flow": null,
            "grid_auto_rows": null,
            "grid_column": null,
            "grid_gap": null,
            "grid_row": null,
            "grid_template_areas": null,
            "grid_template_columns": null,
            "grid_template_rows": null,
            "height": null,
            "justify_content": null,
            "justify_items": null,
            "left": null,
            "margin": null,
            "max_height": null,
            "max_width": null,
            "min_height": null,
            "min_width": null,
            "object_fit": null,
            "object_position": null,
            "order": null,
            "overflow": null,
            "overflow_x": null,
            "overflow_y": null,
            "padding": null,
            "right": null,
            "top": null,
            "visibility": null,
            "width": null
          }
        },
        "f57d648bba5c41118ceaf50a1cce42f7": {
          "model_module": "@jupyter-widgets/controls",
          "model_module_version": "1.5.0",
          "model_name": "DescriptionStyleModel",
          "state": {
            "_model_module": "@jupyter-widgets/controls",
            "_model_module_version": "1.5.0",
            "_model_name": "DescriptionStyleModel",
            "_view_count": null,
            "_view_module": "@jupyter-widgets/base",
            "_view_module_version": "1.2.0",
            "_view_name": "StyleView",
            "description_width": ""
          }
        }
      }
    }
  },
  "nbformat": 4,
  "nbformat_minor": 0
}
